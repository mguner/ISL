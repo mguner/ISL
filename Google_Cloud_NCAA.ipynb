{
 "cells": [
  {
   "cell_type": "code",
   "execution_count": 1,
   "metadata": {},
   "outputs": [
    {
     "name": "stdout",
     "output_type": "stream",
     "text": [
      "3.6.2 |Anaconda custom (64-bit)| (default, Sep 21 2017, 18:29:43) \n",
      "[GCC 4.2.1 Compatible Clang 4.0.1 (tags/RELEASE_401/final)]\n",
      "sys.version_info(major=3, minor=6, micro=2, releaselevel='final', serial=0)\n"
     ]
    }
   ],
   "source": [
    "import sys\n",
    "print(sys.version)\n",
    "print(sys.version_info)"
   ]
  },
  {
   "cell_type": "code",
   "execution_count": 2,
   "metadata": {
    "collapsed": true
   },
   "outputs": [],
   "source": [
    "%matplotlib inline\n",
    "import pandas as pd\n",
    "import matplotlib\n",
    "import matplotlib.pyplot as plt\n",
    "import numpy as np\n",
    "import seaborn as sbn\n"
   ]
  },
  {
   "cell_type": "code",
   "execution_count": 3,
   "metadata": {
    "collapsed": true
   },
   "outputs": [],
   "source": [
    "#returns a dataframe that includes all the events happened in 'year' since 2009 - 2010\n",
    "def event_data(year):\n",
    "    return(pd.read_csv('/Users/user/Desktop/proje/EGMStudyGroup/NCAA/data/PlayByPlay_{}/Events_{}.csv'.format(year,year)))\n",
    "# Returns a dataframe with variables playerid, teamid and playerName since 2009-2010.\n",
    "def player_data(year):\n",
    "    return pd.read_csv('/Users/user/Desktop/proje/EGMStudyGroup/NCAA/data/PlayByPlay_{}/Players_{}.csv'.format(year,year))"
   ]
  },
  {
   "cell_type": "code",
   "execution_count": 4,
   "metadata": {},
   "outputs": [
    {
     "data": {
      "text/html": [
       "<div>\n",
       "<style>\n",
       "    .dataframe thead tr:only-child th {\n",
       "        text-align: right;\n",
       "    }\n",
       "\n",
       "    .dataframe thead th {\n",
       "        text-align: left;\n",
       "    }\n",
       "\n",
       "    .dataframe tbody tr th {\n",
       "        vertical-align: top;\n",
       "    }\n",
       "</style>\n",
       "<table border=\"1\" class=\"dataframe\">\n",
       "  <thead>\n",
       "    <tr style=\"text-align: right;\">\n",
       "      <th>EventType</th>\n",
       "      <th>assist</th>\n",
       "      <th>block</th>\n",
       "      <th>foul_pers</th>\n",
       "      <th>foul_tech</th>\n",
       "      <th>made1_free</th>\n",
       "      <th>made2_dunk</th>\n",
       "      <th>made2_jump</th>\n",
       "      <th>made2_lay</th>\n",
       "      <th>made2_tip</th>\n",
       "      <th>made3_jump</th>\n",
       "      <th>...</th>\n",
       "      <th>miss3_jump</th>\n",
       "      <th>reb_dead</th>\n",
       "      <th>reb_def</th>\n",
       "      <th>reb_off</th>\n",
       "      <th>steal</th>\n",
       "      <th>sub_in</th>\n",
       "      <th>sub_out</th>\n",
       "      <th>timeout</th>\n",
       "      <th>timeout_tv</th>\n",
       "      <th>turnover</th>\n",
       "    </tr>\n",
       "    <tr>\n",
       "      <th>EventPlayerID</th>\n",
       "      <th></th>\n",
       "      <th></th>\n",
       "      <th></th>\n",
       "      <th></th>\n",
       "      <th></th>\n",
       "      <th></th>\n",
       "      <th></th>\n",
       "      <th></th>\n",
       "      <th></th>\n",
       "      <th></th>\n",
       "      <th></th>\n",
       "      <th></th>\n",
       "      <th></th>\n",
       "      <th></th>\n",
       "      <th></th>\n",
       "      <th></th>\n",
       "      <th></th>\n",
       "      <th></th>\n",
       "      <th></th>\n",
       "      <th></th>\n",
       "      <th></th>\n",
       "    </tr>\n",
       "  </thead>\n",
       "  <tbody>\n",
       "    <tr>\n",
       "      <th>626432</th>\n",
       "      <td>15</td>\n",
       "      <td>8</td>\n",
       "      <td>31</td>\n",
       "      <td>0</td>\n",
       "      <td>5</td>\n",
       "      <td>0</td>\n",
       "      <td>16</td>\n",
       "      <td>10</td>\n",
       "      <td>1</td>\n",
       "      <td>0</td>\n",
       "      <td>...</td>\n",
       "      <td>2</td>\n",
       "      <td>0</td>\n",
       "      <td>30</td>\n",
       "      <td>17</td>\n",
       "      <td>4</td>\n",
       "      <td>48</td>\n",
       "      <td>56</td>\n",
       "      <td>0</td>\n",
       "      <td>0</td>\n",
       "      <td>23</td>\n",
       "    </tr>\n",
       "    <tr>\n",
       "      <th>626433</th>\n",
       "      <td>23</td>\n",
       "      <td>1</td>\n",
       "      <td>75</td>\n",
       "      <td>0</td>\n",
       "      <td>39</td>\n",
       "      <td>0</td>\n",
       "      <td>18</td>\n",
       "      <td>25</td>\n",
       "      <td>1</td>\n",
       "      <td>51</td>\n",
       "      <td>...</td>\n",
       "      <td>64</td>\n",
       "      <td>0</td>\n",
       "      <td>125</td>\n",
       "      <td>38</td>\n",
       "      <td>15</td>\n",
       "      <td>76</td>\n",
       "      <td>89</td>\n",
       "      <td>0</td>\n",
       "      <td>0</td>\n",
       "      <td>34</td>\n",
       "    </tr>\n",
       "    <tr>\n",
       "      <th>626434</th>\n",
       "      <td>3</td>\n",
       "      <td>1</td>\n",
       "      <td>24</td>\n",
       "      <td>0</td>\n",
       "      <td>15</td>\n",
       "      <td>0</td>\n",
       "      <td>5</td>\n",
       "      <td>2</td>\n",
       "      <td>0</td>\n",
       "      <td>0</td>\n",
       "      <td>...</td>\n",
       "      <td>1</td>\n",
       "      <td>0</td>\n",
       "      <td>17</td>\n",
       "      <td>3</td>\n",
       "      <td>9</td>\n",
       "      <td>56</td>\n",
       "      <td>51</td>\n",
       "      <td>0</td>\n",
       "      <td>0</td>\n",
       "      <td>9</td>\n",
       "    </tr>\n",
       "    <tr>\n",
       "      <th>626435</th>\n",
       "      <td>10</td>\n",
       "      <td>2</td>\n",
       "      <td>21</td>\n",
       "      <td>0</td>\n",
       "      <td>6</td>\n",
       "      <td>0</td>\n",
       "      <td>10</td>\n",
       "      <td>7</td>\n",
       "      <td>0</td>\n",
       "      <td>4</td>\n",
       "      <td>...</td>\n",
       "      <td>8</td>\n",
       "      <td>0</td>\n",
       "      <td>13</td>\n",
       "      <td>4</td>\n",
       "      <td>4</td>\n",
       "      <td>77</td>\n",
       "      <td>61</td>\n",
       "      <td>0</td>\n",
       "      <td>0</td>\n",
       "      <td>9</td>\n",
       "    </tr>\n",
       "    <tr>\n",
       "      <th>626436</th>\n",
       "      <td>2</td>\n",
       "      <td>0</td>\n",
       "      <td>3</td>\n",
       "      <td>0</td>\n",
       "      <td>0</td>\n",
       "      <td>0</td>\n",
       "      <td>0</td>\n",
       "      <td>0</td>\n",
       "      <td>0</td>\n",
       "      <td>0</td>\n",
       "      <td>...</td>\n",
       "      <td>1</td>\n",
       "      <td>0</td>\n",
       "      <td>2</td>\n",
       "      <td>1</td>\n",
       "      <td>0</td>\n",
       "      <td>13</td>\n",
       "      <td>3</td>\n",
       "      <td>0</td>\n",
       "      <td>0</td>\n",
       "      <td>1</td>\n",
       "    </tr>\n",
       "  </tbody>\n",
       "</table>\n",
       "<p>5 rows × 25 columns</p>\n",
       "</div>"
      ],
      "text/plain": [
       "EventType      assist  block  foul_pers  foul_tech  made1_free  made2_dunk  \\\n",
       "EventPlayerID                                                                \n",
       "626432             15      8         31          0           5           0   \n",
       "626433             23      1         75          0          39           0   \n",
       "626434              3      1         24          0          15           0   \n",
       "626435             10      2         21          0           6           0   \n",
       "626436              2      0          3          0           0           0   \n",
       "\n",
       "EventType      made2_jump  made2_lay  made2_tip  made3_jump    ...     \\\n",
       "EventPlayerID                                                  ...      \n",
       "626432                 16         10          1           0    ...      \n",
       "626433                 18         25          1          51    ...      \n",
       "626434                  5          2          0           0    ...      \n",
       "626435                 10          7          0           4    ...      \n",
       "626436                  0          0          0           0    ...      \n",
       "\n",
       "EventType      miss3_jump  reb_dead  reb_def  reb_off  steal  sub_in  sub_out  \\\n",
       "EventPlayerID                                                                   \n",
       "626432                  2         0       30       17      4      48       56   \n",
       "626433                 64         0      125       38     15      76       89   \n",
       "626434                  1         0       17        3      9      56       51   \n",
       "626435                  8         0       13        4      4      77       61   \n",
       "626436                  1         0        2        1      0      13        3   \n",
       "\n",
       "EventType      timeout  timeout_tv  turnover  \n",
       "EventPlayerID                                 \n",
       "626432               0           0        23  \n",
       "626433               0           0        34  \n",
       "626434               0           0         9  \n",
       "626435               0           0         9  \n",
       "626436               0           0         1  \n",
       "\n",
       "[5 rows x 25 columns]"
      ]
     },
     "execution_count": 4,
     "metadata": {},
     "output_type": "execute_result"
    }
   ],
   "source": [
    "df = event_data(2015)\n",
    "df['new'] = 1\n",
    "#let's create a table that shows every players statistics and TeamId for a given game.\n",
    "table = pd.pivot_table(df,fill_value= 0, values= 'new', index=['DayNum', 'EventTeamID','EventPlayerID'],\n",
    "                     columns=['EventType'], aggfunc = np.sum )\n",
    "\n",
    "# table_player_2015 gives the total of events for each player in 2015 we have 5442 players' data in this datafram\n",
    "table_player_2015 = table.groupby('EventPlayerID').apply(lambda x: x[['assist', 'block',\n",
    "       'foul_pers', 'foul_tech', 'made1_free', 'made2_dunk', 'made2_jump',\n",
    "       'made2_lay', 'made2_tip', 'made3_jump', 'miss1_free', 'miss2_dunk',\n",
    "       'miss2_jump', 'miss2_lay', 'miss2_tip', 'miss3_jump', 'reb_dead',\n",
    "       'reb_def', 'reb_off', 'steal', 'sub_in', 'sub_out', 'timeout',\n",
    "       'timeout_tv', 'turnover']].sum() )\n",
    "table_player_2015.head()\n"
   ]
  },
  {
   "cell_type": "markdown",
   "metadata": {},
   "source": [
    " ### We will read the datasets and look at their heads \n",
    "\n",
    " __[For detailed explanations of the datasets: Link to Kaggle](https://www.kaggle.com/c/mens-machine-learning-competition-2018/data)__"
   ]
  },
  {
   "cell_type": "code",
   "execution_count": 5,
   "metadata": {},
   "outputs": [
    {
     "data": {
      "text/html": [
       "<div>\n",
       "<style>\n",
       "    .dataframe thead tr:only-child th {\n",
       "        text-align: right;\n",
       "    }\n",
       "\n",
       "    .dataframe thead th {\n",
       "        text-align: left;\n",
       "    }\n",
       "\n",
       "    .dataframe tbody tr th {\n",
       "        vertical-align: top;\n",
       "    }\n",
       "</style>\n",
       "<table border=\"1\" class=\"dataframe\">\n",
       "  <thead>\n",
       "    <tr style=\"text-align: right;\">\n",
       "      <th></th>\n",
       "      <th>TeamID</th>\n",
       "      <th>TeamName</th>\n",
       "      <th>FirstD1Season</th>\n",
       "      <th>LastD1Season</th>\n",
       "    </tr>\n",
       "  </thead>\n",
       "  <tbody>\n",
       "    <tr>\n",
       "      <th>0</th>\n",
       "      <td>1101</td>\n",
       "      <td>Abilene Chr</td>\n",
       "      <td>2014</td>\n",
       "      <td>2018</td>\n",
       "    </tr>\n",
       "    <tr>\n",
       "      <th>1</th>\n",
       "      <td>1102</td>\n",
       "      <td>Air Force</td>\n",
       "      <td>1985</td>\n",
       "      <td>2018</td>\n",
       "    </tr>\n",
       "    <tr>\n",
       "      <th>2</th>\n",
       "      <td>1103</td>\n",
       "      <td>Akron</td>\n",
       "      <td>1985</td>\n",
       "      <td>2018</td>\n",
       "    </tr>\n",
       "  </tbody>\n",
       "</table>\n",
       "</div>"
      ],
      "text/plain": [
       "   TeamID     TeamName  FirstD1Season  LastD1Season\n",
       "0    1101  Abilene Chr           2014          2018\n",
       "1    1102    Air Force           1985          2018\n",
       "2    1103        Akron           1985          2018"
      ]
     },
     "execution_count": 5,
     "metadata": {},
     "output_type": "execute_result"
    }
   ],
   "source": [
    "#This file identifies the different college teams present in the dataset.\n",
    "teams = pd.read_csv('/Users/user/Desktop/proje/EGMStudyGroup/NCAA/data/DataFiles/Teams.csv')\n",
    "teams.head(3)"
   ]
  },
  {
   "cell_type": "code",
   "execution_count": 6,
   "metadata": {},
   "outputs": [
    {
     "data": {
      "text/html": [
       "<div>\n",
       "<style>\n",
       "    .dataframe thead tr:only-child th {\n",
       "        text-align: right;\n",
       "    }\n",
       "\n",
       "    .dataframe thead th {\n",
       "        text-align: left;\n",
       "    }\n",
       "\n",
       "    .dataframe tbody tr th {\n",
       "        vertical-align: top;\n",
       "    }\n",
       "</style>\n",
       "<table border=\"1\" class=\"dataframe\">\n",
       "  <thead>\n",
       "    <tr style=\"text-align: right;\">\n",
       "      <th></th>\n",
       "      <th>Season</th>\n",
       "      <th>DayZero</th>\n",
       "      <th>RegionW</th>\n",
       "      <th>RegionX</th>\n",
       "      <th>RegionY</th>\n",
       "      <th>RegionZ</th>\n",
       "    </tr>\n",
       "  </thead>\n",
       "  <tbody>\n",
       "    <tr>\n",
       "      <th>0</th>\n",
       "      <td>1985</td>\n",
       "      <td>10/29/1984</td>\n",
       "      <td>East</td>\n",
       "      <td>West</td>\n",
       "      <td>Midwest</td>\n",
       "      <td>Southeast</td>\n",
       "    </tr>\n",
       "    <tr>\n",
       "      <th>1</th>\n",
       "      <td>1986</td>\n",
       "      <td>10/28/1985</td>\n",
       "      <td>East</td>\n",
       "      <td>Midwest</td>\n",
       "      <td>Southeast</td>\n",
       "      <td>West</td>\n",
       "    </tr>\n",
       "    <tr>\n",
       "      <th>2</th>\n",
       "      <td>1987</td>\n",
       "      <td>10/27/1986</td>\n",
       "      <td>East</td>\n",
       "      <td>Southeast</td>\n",
       "      <td>Midwest</td>\n",
       "      <td>West</td>\n",
       "    </tr>\n",
       "  </tbody>\n",
       "</table>\n",
       "</div>"
      ],
      "text/plain": [
       "   Season     DayZero RegionW    RegionX    RegionY    RegionZ\n",
       "0    1985  10/29/1984    East       West    Midwest  Southeast\n",
       "1    1986  10/28/1985    East    Midwest  Southeast       West\n",
       "2    1987  10/27/1986    East  Southeast    Midwest       West"
      ]
     },
     "execution_count": 6,
     "metadata": {},
     "output_type": "execute_result"
    }
   ],
   "source": [
    "#This file identifies the different seasons included in the historical data,\n",
    "#along with certain season-level properties.\n",
    "seasons = pd.read_csv('/Users/user/Desktop/proje/EGMStudyGroup/NCAA/data/DataFiles/Seasons.csv')\n",
    "seasons.head(3)"
   ]
  },
  {
   "cell_type": "code",
   "execution_count": 7,
   "metadata": {},
   "outputs": [
    {
     "data": {
      "text/html": [
       "<div>\n",
       "<style>\n",
       "    .dataframe thead tr:only-child th {\n",
       "        text-align: right;\n",
       "    }\n",
       "\n",
       "    .dataframe thead th {\n",
       "        text-align: left;\n",
       "    }\n",
       "\n",
       "    .dataframe tbody tr th {\n",
       "        vertical-align: top;\n",
       "    }\n",
       "</style>\n",
       "<table border=\"1\" class=\"dataframe\">\n",
       "  <thead>\n",
       "    <tr style=\"text-align: right;\">\n",
       "      <th></th>\n",
       "      <th>Season</th>\n",
       "      <th>Seed</th>\n",
       "      <th>TeamID</th>\n",
       "    </tr>\n",
       "  </thead>\n",
       "  <tbody>\n",
       "    <tr>\n",
       "      <th>0</th>\n",
       "      <td>1985</td>\n",
       "      <td>W01</td>\n",
       "      <td>1207</td>\n",
       "    </tr>\n",
       "    <tr>\n",
       "      <th>1</th>\n",
       "      <td>1985</td>\n",
       "      <td>W02</td>\n",
       "      <td>1210</td>\n",
       "    </tr>\n",
       "    <tr>\n",
       "      <th>2</th>\n",
       "      <td>1985</td>\n",
       "      <td>W03</td>\n",
       "      <td>1228</td>\n",
       "    </tr>\n",
       "  </tbody>\n",
       "</table>\n",
       "</div>"
      ],
      "text/plain": [
       "   Season Seed  TeamID\n",
       "0    1985  W01    1207\n",
       "1    1985  W02    1210\n",
       "2    1985  W03    1228"
      ]
     },
     "execution_count": 7,
     "metadata": {},
     "output_type": "execute_result"
    }
   ],
   "source": [
    "# This file identifies the seeds for all teams in each NCAA® tournament, for all seasons of historical data.\n",
    "seeds = pd.read_csv('/Users/user/Desktop/proje/EGMStudyGroup/NCAA/data/DataFiles/NCAATourneySeeds.csv')\n",
    "seeds.head(3)"
   ]
  },
  {
   "cell_type": "code",
   "execution_count": 23,
   "metadata": {},
   "outputs": [
    {
     "data": {
      "text/plain": [
       "Index(['Season', 'DayNum', 'WTeamID', 'WScore', 'LTeamID', 'LScore', 'WLoc',\n",
       "       'NumOT'],\n",
       "      dtype='object')"
      ]
     },
     "execution_count": 23,
     "metadata": {},
     "output_type": "execute_result"
    }
   ],
   "source": [
    "#This file identifies the game-by-game results for many seasons of historical data, starting with the 1985 season\n",
    "reg_season_cpt = pd.read_csv('/Users/user/Desktop/proje/EGMStudyGroup/NCAA/data/DataFiles/RegularSeasonCompactResults.csv')\n",
    "reg_season_cpt.head(3).columns"
   ]
  },
  {
   "cell_type": "code",
   "execution_count": 8,
   "metadata": {},
   "outputs": [
    {
     "data": {
      "text/html": [
       "<div>\n",
       "<style>\n",
       "    .dataframe thead tr:only-child th {\n",
       "        text-align: right;\n",
       "    }\n",
       "\n",
       "    .dataframe thead th {\n",
       "        text-align: left;\n",
       "    }\n",
       "\n",
       "    .dataframe tbody tr th {\n",
       "        vertical-align: top;\n",
       "    }\n",
       "</style>\n",
       "<table border=\"1\" class=\"dataframe\">\n",
       "  <thead>\n",
       "    <tr style=\"text-align: right;\">\n",
       "      <th></th>\n",
       "      <th>Season</th>\n",
       "      <th>DayNum</th>\n",
       "      <th>WTeamID</th>\n",
       "      <th>WScore</th>\n",
       "      <th>LTeamID</th>\n",
       "      <th>LScore</th>\n",
       "      <th>WLoc</th>\n",
       "      <th>NumOT</th>\n",
       "    </tr>\n",
       "  </thead>\n",
       "  <tbody>\n",
       "    <tr>\n",
       "      <th>0</th>\n",
       "      <td>1985</td>\n",
       "      <td>136</td>\n",
       "      <td>1116</td>\n",
       "      <td>63</td>\n",
       "      <td>1234</td>\n",
       "      <td>54</td>\n",
       "      <td>N</td>\n",
       "      <td>0</td>\n",
       "    </tr>\n",
       "    <tr>\n",
       "      <th>1</th>\n",
       "      <td>1985</td>\n",
       "      <td>136</td>\n",
       "      <td>1120</td>\n",
       "      <td>59</td>\n",
       "      <td>1345</td>\n",
       "      <td>58</td>\n",
       "      <td>N</td>\n",
       "      <td>0</td>\n",
       "    </tr>\n",
       "    <tr>\n",
       "      <th>2</th>\n",
       "      <td>1985</td>\n",
       "      <td>136</td>\n",
       "      <td>1207</td>\n",
       "      <td>68</td>\n",
       "      <td>1250</td>\n",
       "      <td>43</td>\n",
       "      <td>N</td>\n",
       "      <td>0</td>\n",
       "    </tr>\n",
       "  </tbody>\n",
       "</table>\n",
       "</div>"
      ],
      "text/plain": [
       "   Season  DayNum  WTeamID  WScore  LTeamID  LScore WLoc  NumOT\n",
       "0    1985     136     1116      63     1234      54    N      0\n",
       "1    1985     136     1120      59     1345      58    N      0\n",
       "2    1985     136     1207      68     1250      43    N      0"
      ]
     },
     "execution_count": 8,
     "metadata": {},
     "output_type": "execute_result"
    }
   ],
   "source": [
    "#This file identifies the game-by-game NCAA® tournament results for all seasons of historical data.\n",
    "tour_results = pd.read_csv('/Users/user/Desktop/proje/EGMStudyGroup/NCAA/data/DataFiles/NCAATourneyCompactResults.csv')\n",
    "tour_results.head(3)"
   ]
  },
  {
   "cell_type": "code",
   "execution_count": 9,
   "metadata": {},
   "outputs": [
    {
     "data": {
      "text/html": [
       "<div>\n",
       "<style>\n",
       "    .dataframe thead tr:only-child th {\n",
       "        text-align: right;\n",
       "    }\n",
       "\n",
       "    .dataframe thead th {\n",
       "        text-align: left;\n",
       "    }\n",
       "\n",
       "    .dataframe tbody tr th {\n",
       "        vertical-align: top;\n",
       "    }\n",
       "</style>\n",
       "<table border=\"1\" class=\"dataframe\">\n",
       "  <thead>\n",
       "    <tr style=\"text-align: right;\">\n",
       "      <th></th>\n",
       "      <th>Season</th>\n",
       "      <th>DayNum</th>\n",
       "      <th>WTeamID</th>\n",
       "      <th>WScore</th>\n",
       "      <th>LTeamID</th>\n",
       "      <th>LScore</th>\n",
       "      <th>WLoc</th>\n",
       "      <th>NumOT</th>\n",
       "      <th>WFGM</th>\n",
       "      <th>WFGA</th>\n",
       "      <th>...</th>\n",
       "      <th>LFGA3</th>\n",
       "      <th>LFTM</th>\n",
       "      <th>LFTA</th>\n",
       "      <th>LOR</th>\n",
       "      <th>LDR</th>\n",
       "      <th>LAst</th>\n",
       "      <th>LTO</th>\n",
       "      <th>LStl</th>\n",
       "      <th>LBlk</th>\n",
       "      <th>LPF</th>\n",
       "    </tr>\n",
       "  </thead>\n",
       "  <tbody>\n",
       "    <tr>\n",
       "      <th>0</th>\n",
       "      <td>2003</td>\n",
       "      <td>10</td>\n",
       "      <td>1104</td>\n",
       "      <td>68</td>\n",
       "      <td>1328</td>\n",
       "      <td>62</td>\n",
       "      <td>N</td>\n",
       "      <td>0</td>\n",
       "      <td>27</td>\n",
       "      <td>58</td>\n",
       "      <td>...</td>\n",
       "      <td>10</td>\n",
       "      <td>16</td>\n",
       "      <td>22</td>\n",
       "      <td>10</td>\n",
       "      <td>22</td>\n",
       "      <td>8</td>\n",
       "      <td>18</td>\n",
       "      <td>9</td>\n",
       "      <td>2</td>\n",
       "      <td>20</td>\n",
       "    </tr>\n",
       "    <tr>\n",
       "      <th>1</th>\n",
       "      <td>2003</td>\n",
       "      <td>10</td>\n",
       "      <td>1272</td>\n",
       "      <td>70</td>\n",
       "      <td>1393</td>\n",
       "      <td>63</td>\n",
       "      <td>N</td>\n",
       "      <td>0</td>\n",
       "      <td>26</td>\n",
       "      <td>62</td>\n",
       "      <td>...</td>\n",
       "      <td>24</td>\n",
       "      <td>9</td>\n",
       "      <td>20</td>\n",
       "      <td>20</td>\n",
       "      <td>25</td>\n",
       "      <td>7</td>\n",
       "      <td>12</td>\n",
       "      <td>8</td>\n",
       "      <td>6</td>\n",
       "      <td>16</td>\n",
       "    </tr>\n",
       "    <tr>\n",
       "      <th>2</th>\n",
       "      <td>2003</td>\n",
       "      <td>11</td>\n",
       "      <td>1266</td>\n",
       "      <td>73</td>\n",
       "      <td>1437</td>\n",
       "      <td>61</td>\n",
       "      <td>N</td>\n",
       "      <td>0</td>\n",
       "      <td>24</td>\n",
       "      <td>58</td>\n",
       "      <td>...</td>\n",
       "      <td>26</td>\n",
       "      <td>14</td>\n",
       "      <td>23</td>\n",
       "      <td>31</td>\n",
       "      <td>22</td>\n",
       "      <td>9</td>\n",
       "      <td>12</td>\n",
       "      <td>2</td>\n",
       "      <td>5</td>\n",
       "      <td>23</td>\n",
       "    </tr>\n",
       "  </tbody>\n",
       "</table>\n",
       "<p>3 rows × 34 columns</p>\n",
       "</div>"
      ],
      "text/plain": [
       "   Season  DayNum  WTeamID  WScore  LTeamID  LScore WLoc  NumOT  WFGM  WFGA  \\\n",
       "0    2003      10     1104      68     1328      62    N      0    27    58   \n",
       "1    2003      10     1272      70     1393      63    N      0    26    62   \n",
       "2    2003      11     1266      73     1437      61    N      0    24    58   \n",
       "\n",
       "  ...   LFGA3  LFTM  LFTA  LOR  LDR  LAst  LTO  LStl  LBlk  LPF  \n",
       "0 ...      10    16    22   10   22     8   18     9     2   20  \n",
       "1 ...      24     9    20   20   25     7   12     8     6   16  \n",
       "2 ...      26    14    23   31   22     9   12     2     5   23  \n",
       "\n",
       "[3 rows x 34 columns]"
      ]
     },
     "execution_count": 9,
     "metadata": {},
     "output_type": "execute_result"
    }
   ],
   "source": [
    "#This file provides team-level box scores for many regular seasons of historical data, starting with the 2003 season. \n",
    "seas_detail = pd.read_csv('/Users/user/Desktop/proje/EGMStudyGroup/NCAA/data/DataFiles/RegularSeasonDetailedResults.csv')\n",
    "#seas_detail.columns\n",
    "seas_detail.head(3)"
   ]
  },
  {
   "cell_type": "code",
   "execution_count": 10,
   "metadata": {},
   "outputs": [
    {
     "data": {
      "text/html": [
       "<div>\n",
       "<style>\n",
       "    .dataframe thead tr:only-child th {\n",
       "        text-align: right;\n",
       "    }\n",
       "\n",
       "    .dataframe thead th {\n",
       "        text-align: left;\n",
       "    }\n",
       "\n",
       "    .dataframe tbody tr th {\n",
       "        vertical-align: top;\n",
       "    }\n",
       "</style>\n",
       "<table border=\"1\" class=\"dataframe\">\n",
       "  <thead>\n",
       "    <tr style=\"text-align: right;\">\n",
       "      <th></th>\n",
       "      <th>Season</th>\n",
       "      <th>DayNum</th>\n",
       "      <th>WTeamID</th>\n",
       "      <th>WScore</th>\n",
       "      <th>LTeamID</th>\n",
       "      <th>LScore</th>\n",
       "      <th>WLoc</th>\n",
       "      <th>NumOT</th>\n",
       "      <th>WFGM</th>\n",
       "      <th>WFGA</th>\n",
       "      <th>...</th>\n",
       "      <th>LFGA3</th>\n",
       "      <th>LFTM</th>\n",
       "      <th>LFTA</th>\n",
       "      <th>LOR</th>\n",
       "      <th>LDR</th>\n",
       "      <th>LAst</th>\n",
       "      <th>LTO</th>\n",
       "      <th>LStl</th>\n",
       "      <th>LBlk</th>\n",
       "      <th>LPF</th>\n",
       "    </tr>\n",
       "  </thead>\n",
       "  <tbody>\n",
       "    <tr>\n",
       "      <th>0</th>\n",
       "      <td>2003</td>\n",
       "      <td>134</td>\n",
       "      <td>1421</td>\n",
       "      <td>92</td>\n",
       "      <td>1411</td>\n",
       "      <td>84</td>\n",
       "      <td>N</td>\n",
       "      <td>1</td>\n",
       "      <td>32</td>\n",
       "      <td>69</td>\n",
       "      <td>...</td>\n",
       "      <td>31</td>\n",
       "      <td>14</td>\n",
       "      <td>31</td>\n",
       "      <td>17</td>\n",
       "      <td>28</td>\n",
       "      <td>16</td>\n",
       "      <td>15</td>\n",
       "      <td>5</td>\n",
       "      <td>0</td>\n",
       "      <td>22</td>\n",
       "    </tr>\n",
       "    <tr>\n",
       "      <th>1</th>\n",
       "      <td>2003</td>\n",
       "      <td>136</td>\n",
       "      <td>1112</td>\n",
       "      <td>80</td>\n",
       "      <td>1436</td>\n",
       "      <td>51</td>\n",
       "      <td>N</td>\n",
       "      <td>0</td>\n",
       "      <td>31</td>\n",
       "      <td>66</td>\n",
       "      <td>...</td>\n",
       "      <td>16</td>\n",
       "      <td>7</td>\n",
       "      <td>7</td>\n",
       "      <td>8</td>\n",
       "      <td>26</td>\n",
       "      <td>12</td>\n",
       "      <td>17</td>\n",
       "      <td>10</td>\n",
       "      <td>3</td>\n",
       "      <td>15</td>\n",
       "    </tr>\n",
       "    <tr>\n",
       "      <th>2</th>\n",
       "      <td>2003</td>\n",
       "      <td>136</td>\n",
       "      <td>1113</td>\n",
       "      <td>84</td>\n",
       "      <td>1272</td>\n",
       "      <td>71</td>\n",
       "      <td>N</td>\n",
       "      <td>0</td>\n",
       "      <td>31</td>\n",
       "      <td>59</td>\n",
       "      <td>...</td>\n",
       "      <td>28</td>\n",
       "      <td>14</td>\n",
       "      <td>21</td>\n",
       "      <td>20</td>\n",
       "      <td>22</td>\n",
       "      <td>11</td>\n",
       "      <td>12</td>\n",
       "      <td>2</td>\n",
       "      <td>5</td>\n",
       "      <td>18</td>\n",
       "    </tr>\n",
       "  </tbody>\n",
       "</table>\n",
       "<p>3 rows × 34 columns</p>\n",
       "</div>"
      ],
      "text/plain": [
       "   Season  DayNum  WTeamID  WScore  LTeamID  LScore WLoc  NumOT  WFGM  WFGA  \\\n",
       "0    2003     134     1421      92     1411      84    N      1    32    69   \n",
       "1    2003     136     1112      80     1436      51    N      0    31    66   \n",
       "2    2003     136     1113      84     1272      71    N      0    31    59   \n",
       "\n",
       "  ...   LFGA3  LFTM  LFTA  LOR  LDR  LAst  LTO  LStl  LBlk  LPF  \n",
       "0 ...      31    14    31   17   28    16   15     5     0   22  \n",
       "1 ...      16     7     7    8   26    12   17    10     3   15  \n",
       "2 ...      28    14    21   20   22    11   12     2     5   18  \n",
       "\n",
       "[3 rows x 34 columns]"
      ]
     },
     "execution_count": 10,
     "metadata": {},
     "output_type": "execute_result"
    }
   ],
   "source": [
    "#This file provides team-level box scores for many NCAA® tournaments, starting with the 2003 season.\n",
    "tour_detail = pd.read_csv('/Users/user/Desktop/proje/EGMStudyGroup/NCAA/data/DataFiles/NCAATourneyDetailedResults.csv')\n",
    "tour_detail.head(3)"
   ]
  },
  {
   "cell_type": "code",
   "execution_count": 11,
   "metadata": {},
   "outputs": [
    {
     "data": {
      "text/html": [
       "<div>\n",
       "<style>\n",
       "    .dataframe thead tr:only-child th {\n",
       "        text-align: right;\n",
       "    }\n",
       "\n",
       "    .dataframe thead th {\n",
       "        text-align: left;\n",
       "    }\n",
       "\n",
       "    .dataframe tbody tr th {\n",
       "        vertical-align: top;\n",
       "    }\n",
       "</style>\n",
       "<table border=\"1\" class=\"dataframe\">\n",
       "  <thead>\n",
       "    <tr style=\"text-align: right;\">\n",
       "      <th></th>\n",
       "      <th>ConfAbbrev</th>\n",
       "      <th>Description</th>\n",
       "    </tr>\n",
       "  </thead>\n",
       "  <tbody>\n",
       "    <tr>\n",
       "      <th>0</th>\n",
       "      <td>a_sun</td>\n",
       "      <td>Atlantic Sun Conference</td>\n",
       "    </tr>\n",
       "    <tr>\n",
       "      <th>1</th>\n",
       "      <td>a_ten</td>\n",
       "      <td>Atlantic 10 Conference</td>\n",
       "    </tr>\n",
       "    <tr>\n",
       "      <th>2</th>\n",
       "      <td>aac</td>\n",
       "      <td>American Athletic Conference</td>\n",
       "    </tr>\n",
       "  </tbody>\n",
       "</table>\n",
       "</div>"
      ],
      "text/plain": [
       "  ConfAbbrev                   Description\n",
       "0      a_sun       Atlantic Sun Conference\n",
       "1      a_ten        Atlantic 10 Conference\n",
       "2        aac  American Athletic Conference"
      ]
     },
     "execution_count": 11,
     "metadata": {},
     "output_type": "execute_result"
    }
   ],
   "source": [
    "#This file indicates the Division I conferences that have existed over the years since 1985.\n",
    "conferences = pd.read_csv('/Users/user/Desktop/proje/EGMStudyGroup/NCAA/data/DataFiles/Conferences.csv')\n",
    "conferences.head(3)"
   ]
  },
  {
   "cell_type": "code",
   "execution_count": 12,
   "metadata": {},
   "outputs": [
    {
     "data": {
      "text/html": [
       "<div>\n",
       "<style>\n",
       "    .dataframe thead tr:only-child th {\n",
       "        text-align: right;\n",
       "    }\n",
       "\n",
       "    .dataframe thead th {\n",
       "        text-align: left;\n",
       "    }\n",
       "\n",
       "    .dataframe tbody tr th {\n",
       "        vertical-align: top;\n",
       "    }\n",
       "</style>\n",
       "<table border=\"1\" class=\"dataframe\">\n",
       "  <thead>\n",
       "    <tr style=\"text-align: right;\">\n",
       "      <th></th>\n",
       "      <th>Season</th>\n",
       "      <th>TeamID</th>\n",
       "      <th>ConfAbbrev</th>\n",
       "    </tr>\n",
       "  </thead>\n",
       "  <tbody>\n",
       "    <tr>\n",
       "      <th>0</th>\n",
       "      <td>1985</td>\n",
       "      <td>1114</td>\n",
       "      <td>a_sun</td>\n",
       "    </tr>\n",
       "    <tr>\n",
       "      <th>1</th>\n",
       "      <td>1985</td>\n",
       "      <td>1147</td>\n",
       "      <td>a_sun</td>\n",
       "    </tr>\n",
       "    <tr>\n",
       "      <th>2</th>\n",
       "      <td>1985</td>\n",
       "      <td>1204</td>\n",
       "      <td>a_sun</td>\n",
       "    </tr>\n",
       "  </tbody>\n",
       "</table>\n",
       "</div>"
      ],
      "text/plain": [
       "   Season  TeamID ConfAbbrev\n",
       "0    1985    1114      a_sun\n",
       "1    1985    1147      a_sun\n",
       "2    1985    1204      a_sun"
      ]
     },
     "execution_count": 12,
     "metadata": {},
     "output_type": "execute_result"
    }
   ],
   "source": [
    "#This file indicates the conference affiliations for each team during each season. \n",
    "#Some conferences have changed their names from year to year, and/or changed which teams are part of the conference.\n",
    "#This file tracks this information historically.\n",
    "team_conferences = pd.read_csv('/Users/user/Desktop/proje/EGMStudyGroup/NCAA/data/DataFiles/TeamConferences.csv')\n",
    "team_conferences.head(3)"
   ]
  },
  {
   "cell_type": "code",
   "execution_count": 13,
   "metadata": {},
   "outputs": [
    {
     "data": {
      "text/html": [
       "<div>\n",
       "<style>\n",
       "    .dataframe thead tr:only-child th {\n",
       "        text-align: right;\n",
       "    }\n",
       "\n",
       "    .dataframe thead th {\n",
       "        text-align: left;\n",
       "    }\n",
       "\n",
       "    .dataframe tbody tr th {\n",
       "        vertical-align: top;\n",
       "    }\n",
       "</style>\n",
       "<table border=\"1\" class=\"dataframe\">\n",
       "  <thead>\n",
       "    <tr style=\"text-align: right;\">\n",
       "      <th></th>\n",
       "      <th>Season</th>\n",
       "      <th>TeamID</th>\n",
       "      <th>FirstDayNum</th>\n",
       "      <th>LastDayNum</th>\n",
       "      <th>CoachName</th>\n",
       "    </tr>\n",
       "  </thead>\n",
       "  <tbody>\n",
       "    <tr>\n",
       "      <th>0</th>\n",
       "      <td>1985</td>\n",
       "      <td>1102</td>\n",
       "      <td>0</td>\n",
       "      <td>154</td>\n",
       "      <td>reggie_minton</td>\n",
       "    </tr>\n",
       "    <tr>\n",
       "      <th>1</th>\n",
       "      <td>1985</td>\n",
       "      <td>1103</td>\n",
       "      <td>0</td>\n",
       "      <td>154</td>\n",
       "      <td>bob_huggins</td>\n",
       "    </tr>\n",
       "    <tr>\n",
       "      <th>2</th>\n",
       "      <td>1985</td>\n",
       "      <td>1104</td>\n",
       "      <td>0</td>\n",
       "      <td>154</td>\n",
       "      <td>wimp_sanderson</td>\n",
       "    </tr>\n",
       "  </tbody>\n",
       "</table>\n",
       "</div>"
      ],
      "text/plain": [
       "   Season  TeamID  FirstDayNum  LastDayNum       CoachName\n",
       "0    1985    1102            0         154   reggie_minton\n",
       "1    1985    1103            0         154     bob_huggins\n",
       "2    1985    1104            0         154  wimp_sanderson"
      ]
     },
     "execution_count": 13,
     "metadata": {},
     "output_type": "execute_result"
    }
   ],
   "source": [
    "#This file indicates the head coach for each team in each season, \n",
    "#including a start/finish range of DayNums to indicate a mid-season coaching change. \n",
    "coaches = pd.read_csv('/Users/user/Desktop/proje/EGMStudyGroup/NCAA/data/DataFiles/TeamCoaches.csv')\n",
    "coaches.head(3)"
   ]
  },
  {
   "cell_type": "markdown",
   "metadata": {},
   "source": [
    "### Most Succesfull Coach?"
   ]
  },
  {
   "cell_type": "code",
   "execution_count": 14,
   "metadata": {
    "collapsed": true
   },
   "outputs": [],
   "source": [
    "# Let's find the coaches changes teams during the season\n",
    "coaches[(coaches['FirstDayNum'] != 0)|(coaches['LastDayNum'] != 154)];"
   ]
  },
  {
   "cell_type": "code",
   "execution_count": 15,
   "metadata": {
    "collapsed": true
   },
   "outputs": [],
   "source": [
    "# Let's see the coaches and the number of teams they worked for.\n",
    "coaches.groupby(['CoachName']).TeamID.unique(); # this will give the list of teams for each coach and the teams they have worked.\n",
    "coaches.groupby(['CoachName', 'TeamID']).Season.count(); # number of seasons a coach worked for a team."
   ]
  },
  {
   "cell_type": "markdown",
   "metadata": {},
   "source": [
    "### Most Succesfull Teams? By Number of Champs"
   ]
  },
  {
   "cell_type": "code",
   "execution_count": 16,
   "metadata": {
    "collapsed": true
   },
   "outputs": [],
   "source": [
    "champ_count = tour_results[tour_results['DayNum'] == 154].WTeamID.value_counts()\n",
    "\n",
    "champ_teams = teams[teams.TeamID.isin(list(champ_count.index))][['TeamID','TeamName']]\n",
    "champ_teams['no_champs'] = champ_teams.TeamID.map(champ_count)\n",
    "Champ_Teams = champ_teams.sort_values(by = 'no_champs', ascending = False)\n"
   ]
  },
  {
   "cell_type": "markdown",
   "metadata": {},
   "source": [
    "### Most Succesfull Teams? By Average seed:"
   ]
  },
  {
   "cell_type": "code",
   "execution_count": 17,
   "metadata": {
    "collapsed": true
   },
   "outputs": [],
   "source": [
    "def TeamID_to_Tname(series_TeamID):\n",
    "    series_teamname = teams.set_index('TeamName').TeamID.map(series_TeamID).sort_values(ascending = False)\n",
    "    return series_teamname\n",
    "def PlayerID_to_TeamID(list_PlayerID, season):\n",
    "    team_player = pd.read_csv('/Users/user/Desktop/proje/EGMStudyGroup/NCAA/data/PlayByPlay_{}/Players_{}.csv'.format(season,season))\n",
    "    teamID = team_player[team_player.isin(list_PlayerID)]\n",
    "    return teamID"
   ]
  },
  {
   "cell_type": "code",
   "execution_count": 18,
   "metadata": {
    "collapsed": true
   },
   "outputs": [],
   "source": [
    "seeds['Seed'].replace(regex=True,inplace=True,to_replace=r'\\D',value=r'')\n",
    "seeds['Seed_Numeric'] = pd.to_numeric(seeds.Seed)\n",
    "Seed_Means = seeds.groupby('TeamID').Seed_Numeric.mean();"
   ]
  },
  {
   "cell_type": "code",
   "execution_count": 19,
   "metadata": {
    "collapsed": true
   },
   "outputs": [],
   "source": [
    "Seeds_Teams = teams[teams.TeamID.isin(list(Seed_Means.index))][['TeamID','TeamName']]\n",
    "# Seeds_Teams['avg_seeds'] = Seeds_Teams.TeamID.map(Seed_Means)\n",
    "# Seed_Teams_15 = Seeds_Teams.sort_values(by = 'avg_seeds', ascending = True)[0:16]\n",
    "# Seed_Teams_15[['TeamName', 'avg_seeds']].plot.bar(x = 'TeamName')\n",
    "\n"
   ]
  },
  {
   "cell_type": "code",
   "execution_count": 20,
   "metadata": {
    "collapsed": true
   },
   "outputs": [],
   "source": [
    "Seed_Best = seeds[seeds['Seed_Numeric']==1].TeamID.value_counts()\n",
    "Seeds_Best_Teams = teams[teams.TeamID.isin(list(Seed_Best.index))][['TeamID','TeamName']]\n",
    "Seeds_Best_Teams['No_first_seed'] = Seeds_Best_Teams.TeamID.map(Seed_Best)\n",
    "Seeds_Best_Teams = Seeds_Best_Teams.sort_values( by = 'No_first_seed', ascending = False)[0:14]\n",
    "\n"
   ]
  },
  {
   "cell_type": "code",
   "execution_count": 21,
   "metadata": {
    "collapsed": true
   },
   "outputs": [],
   "source": [
    "def create_game_stats(events):\n",
    "    # Day number, winning team id and losing team id uniquely determines the game id\n",
    "    col = events['DayNum'].astype(str) + \"_\" + events['WTeamID'].astype(str) + \"_\" + events['LTeamID'].astype(str)\n",
    "    events['GameID'] = col\n",
    "    # new column indicating the winning team\n",
    "    events.EventTeamID = (events.WTeamID == events.EventTeamID)\n",
    "    events.EventTeamID = events.EventTeamID.astype(int)\n",
    "\n",
    "    g = events.groupby(['GameID', 'EventTeamID', 'EventType']).agg({'EventType': 'count'})\n",
    "    us = g.unstack(['EventTeamID', 'EventType'], fill_value=0)\n",
    "\n",
    "    return us.sort_index(axis=1)"
   ]
  },
  {
   "cell_type": "code",
   "execution_count": 24,
   "metadata": {},
   "outputs": [],
   "source": [
    "season_wins = reg_season_cpt['WTeamID']\n",
    "s1 = season_wins.value_counts()"
   ]
  },
  {
   "cell_type": "code",
   "execution_count": 32,
   "metadata": {},
   "outputs": [
    {
     "data": {
      "text/plain": [
       "<matplotlib.text.Text at 0x1a1b7d1e48>"
      ]
     },
     "execution_count": 32,
     "metadata": {},
     "output_type": "execute_result"
    },
    {
     "data": {
      "image/png": "[encoded data removed]",
      "text/plain": [
       "<matplotlib.figure.Figure at 0x1a1b2c7fd0>"
      ]
     },
     "metadata": {},
     "output_type": "display_data"
    }
   ],
   "source": [
    "import matplotlib.pyplot as plt\n",
    "import matplotlib.gridspec as gridspec\n",
    "\n",
    "f = fig, ((ax1, ax2), (ax3, ax4)) = plt.subplots(2, 2, figsize = (15,15))\n",
    "f11 = TeamID_to_Tname(s1)[0:17].plot.barh(ax = ax1)\n",
    "f11.set_title('Wins Between 1983 -2017')\n",
    "f12 = Seeds_Best_Teams[['TeamName', 'No_first_seed']].plot.barh(ax = ax2, x = 'TeamName')\n",
    "f12.yaxis.tick_right()\n",
    "f12.set_title('Best Seeds 1983 - 2017')\n",
    "f21 = TeamID_to_Tname(Seed_Means).sort_values(ascending = True)[0:16].plot.bar(ax = ax3, x = 'TeamName')\n",
    "f21.set_title('Avg Seed')\n",
    "f22 = Champ_Teams[['no_champs','TeamName']].plot.bar(ax = ax4, x = 'TeamName')\n",
    "f22.set_title('Number of Champs 1983 - 2017')"
   ]
  },
  {
   "cell_type": "markdown",
   "metadata": {},
   "source": [
    "# Here we want to predict game result"
   ]
  },
  {
   "cell_type": "markdown",
   "metadata": {
    "collapsed": true
   },
   "source": [
    "First we want to write a function that will return our training sets"
   ]
  },
  {
   "cell_type": "code",
   "execution_count": 33,
   "metadata": {
    "collapsed": true
   },
   "outputs": [],
   "source": [
    "def create_dataset(stats, matches):\n",
    "#     \"\"\"\n",
    "#     Create dataset from team statistics and match results.\n",
    "#     In input, each row is the team stats of first team followed by team stats of second team.\n",
    "#     In output, each row is the result of the corresponding match, with 1 denoting first team win.\n",
    "\n",
    "#     :param stats: A dataframe of team statistics with total event counts for each team in each row.\n",
    "#     :param matches: A dataframe of match results with winning team and losing team ids for one match in each row.\n",
    "#     :return: x, y. Two numpy arrays of stats and match results.\n",
    "#     \"\"\"\n",
    "    num_matches = matches.shape[0]\n",
    "    feats_per_team = stats.shape[1]\n",
    "\n",
    "    # allocate space for x and y\n",
    "    x = np.zeros((num_matches, feats_per_team * 2))\n",
    "    y = np.zeros(num_matches)\n",
    "\n",
    "    i = 0\n",
    "    skipped = 0  # if we can't find a team in stats dataframe, we skip that match.\n",
    "    for _, row in matches.iterrows():  # loop over matches\n",
    "        wteam = row.WTeamID\n",
    "        lteam = row.LTeamID\n",
    "        try:\n",
    "            wteam_stats = stats.loc[wteam].values\n",
    "            lteam_stats = stats.loc[lteam].values\n",
    "        except KeyError:\n",
    "            #print(\"Can't find either {} or {}. Skipping.\".format(wteam, lteam))\n",
    "            skipped += 1\n",
    "            continue\n",
    "\n",
    "        # pick a random order for winning/losing teams.\n",
    "        if np.random.rand() > 0.5:\n",
    "            x[i, 0:feats_per_team] = wteam_stats\n",
    "            x[i, feats_per_team:] = lteam_stats\n",
    "            y[i] = 1\n",
    "        else:\n",
    "            x[i, 0:feats_per_team] = lteam_stats\n",
    "            x[i, feats_per_team:] = wteam_stats\n",
    "            y[i] = 0\n",
    "        i += 1\n",
    "\n",
    "    # if we skipped some matches, x and y has extra empty rows. do not return these.\n",
    "    x = x[0:(num_matches-skipped)]\n",
    "    y = y[0:(num_matches-skipped)]\n",
    "    return x, y"
   ]
  },
  {
   "cell_type": "markdown",
   "metadata": {},
   "source": [
    "We will read the datasets and manipulate them in such a form that we can feed the previous function"
   ]
  },
  {
   "cell_type": "code",
   "execution_count": 34,
   "metadata": {
    "collapsed": true
   },
   "outputs": [],
   "source": [
    "import numpy as np\n",
    "import pandas as pd\n",
    "from sklearn.linear_model import LogisticRegression\n",
    "stats_season = 2017\n",
    "predict_season = 2017\n",
    "\n",
    "# load precalculated stats from disk\n",
    "# team_stats = pd.read_csv('data/TeamStats_2010.csv', index_col=0, header=[0, 1])\n",
    "\n"
   ]
  },
  {
   "cell_type": "code",
   "execution_count": 35,
   "metadata": {},
   "outputs": [
    {
     "data": {
      "text/html": [
       "<div>\n",
       "<style>\n",
       "    .dataframe thead tr:only-child th {\n",
       "        text-align: right;\n",
       "    }\n",
       "\n",
       "    .dataframe thead th {\n",
       "        text-align: left;\n",
       "    }\n",
       "\n",
       "    .dataframe tbody tr th {\n",
       "        vertical-align: top;\n",
       "    }\n",
       "</style>\n",
       "<table border=\"1\" class=\"dataframe\">\n",
       "  <thead>\n",
       "    <tr>\n",
       "      <th></th>\n",
       "      <th colspan=\"21\" halign=\"left\">EventType</th>\n",
       "    </tr>\n",
       "    <tr>\n",
       "      <th>EventType</th>\n",
       "      <th>assist</th>\n",
       "      <th>block</th>\n",
       "      <th>foul_pers</th>\n",
       "      <th>foul_tech</th>\n",
       "      <th>made1_free</th>\n",
       "      <th>made2_dunk</th>\n",
       "      <th>made2_jump</th>\n",
       "      <th>made2_lay</th>\n",
       "      <th>made2_tip</th>\n",
       "      <th>made3_jump</th>\n",
       "      <th>...</th>\n",
       "      <th>miss3_jump</th>\n",
       "      <th>reb_dead</th>\n",
       "      <th>reb_def</th>\n",
       "      <th>reb_off</th>\n",
       "      <th>steal</th>\n",
       "      <th>sub_in</th>\n",
       "      <th>sub_out</th>\n",
       "      <th>timeout</th>\n",
       "      <th>timeout_tv</th>\n",
       "      <th>turnover</th>\n",
       "    </tr>\n",
       "    <tr>\n",
       "      <th>EventTeamID</th>\n",
       "      <th></th>\n",
       "      <th></th>\n",
       "      <th></th>\n",
       "      <th></th>\n",
       "      <th></th>\n",
       "      <th></th>\n",
       "      <th></th>\n",
       "      <th></th>\n",
       "      <th></th>\n",
       "      <th></th>\n",
       "      <th></th>\n",
       "      <th></th>\n",
       "      <th></th>\n",
       "      <th></th>\n",
       "      <th></th>\n",
       "      <th></th>\n",
       "      <th></th>\n",
       "      <th></th>\n",
       "      <th></th>\n",
       "      <th></th>\n",
       "      <th></th>\n",
       "    </tr>\n",
       "  </thead>\n",
       "  <tbody>\n",
       "    <tr>\n",
       "      <th>1101</th>\n",
       "      <td>340.0</td>\n",
       "      <td>69.0</td>\n",
       "      <td>554.0</td>\n",
       "      <td>2.0</td>\n",
       "      <td>298.0</td>\n",
       "      <td>22.0</td>\n",
       "      <td>165.0</td>\n",
       "      <td>239.0</td>\n",
       "      <td>8.0</td>\n",
       "      <td>177.0</td>\n",
       "      <td>...</td>\n",
       "      <td>300.0</td>\n",
       "      <td>72.0</td>\n",
       "      <td>572.0</td>\n",
       "      <td>189.0</td>\n",
       "      <td>175.0</td>\n",
       "      <td>887.0</td>\n",
       "      <td>884.0</td>\n",
       "      <td>76.0</td>\n",
       "      <td>77.0</td>\n",
       "      <td>362.0</td>\n",
       "    </tr>\n",
       "    <tr>\n",
       "      <th>1102</th>\n",
       "      <td>449.0</td>\n",
       "      <td>55.0</td>\n",
       "      <td>555.0</td>\n",
       "      <td>2.0</td>\n",
       "      <td>470.0</td>\n",
       "      <td>14.0</td>\n",
       "      <td>210.0</td>\n",
       "      <td>277.0</td>\n",
       "      <td>4.0</td>\n",
       "      <td>246.0</td>\n",
       "      <td>...</td>\n",
       "      <td>432.0</td>\n",
       "      <td>84.0</td>\n",
       "      <td>782.0</td>\n",
       "      <td>293.0</td>\n",
       "      <td>183.0</td>\n",
       "      <td>981.0</td>\n",
       "      <td>982.0</td>\n",
       "      <td>84.0</td>\n",
       "      <td>130.0</td>\n",
       "      <td>386.0</td>\n",
       "    </tr>\n",
       "    <tr>\n",
       "      <th>1103</th>\n",
       "      <td>479.0</td>\n",
       "      <td>103.0</td>\n",
       "      <td>602.0</td>\n",
       "      <td>17.0</td>\n",
       "      <td>463.0</td>\n",
       "      <td>44.0</td>\n",
       "      <td>95.0</td>\n",
       "      <td>386.0</td>\n",
       "      <td>9.0</td>\n",
       "      <td>333.0</td>\n",
       "      <td>...</td>\n",
       "      <td>567.0</td>\n",
       "      <td>113.0</td>\n",
       "      <td>810.0</td>\n",
       "      <td>322.0</td>\n",
       "      <td>179.0</td>\n",
       "      <td>1080.0</td>\n",
       "      <td>1082.0</td>\n",
       "      <td>65.0</td>\n",
       "      <td>133.0</td>\n",
       "      <td>384.0</td>\n",
       "    </tr>\n",
       "    <tr>\n",
       "      <th>1104</th>\n",
       "      <td>377.0</td>\n",
       "      <td>139.0</td>\n",
       "      <td>650.0</td>\n",
       "      <td>2.0</td>\n",
       "      <td>480.0</td>\n",
       "      <td>93.0</td>\n",
       "      <td>178.0</td>\n",
       "      <td>273.0</td>\n",
       "      <td>22.0</td>\n",
       "      <td>218.0</td>\n",
       "      <td>...</td>\n",
       "      <td>468.0</td>\n",
       "      <td>127.0</td>\n",
       "      <td>887.0</td>\n",
       "      <td>406.0</td>\n",
       "      <td>198.0</td>\n",
       "      <td>1131.0</td>\n",
       "      <td>1177.0</td>\n",
       "      <td>95.0</td>\n",
       "      <td>119.0</td>\n",
       "      <td>458.0</td>\n",
       "    </tr>\n",
       "    <tr>\n",
       "      <th>1105</th>\n",
       "      <td>263.0</td>\n",
       "      <td>44.0</td>\n",
       "      <td>439.0</td>\n",
       "      <td>3.0</td>\n",
       "      <td>342.0</td>\n",
       "      <td>29.0</td>\n",
       "      <td>147.0</td>\n",
       "      <td>227.0</td>\n",
       "      <td>11.0</td>\n",
       "      <td>111.0</td>\n",
       "      <td>...</td>\n",
       "      <td>282.0</td>\n",
       "      <td>93.0</td>\n",
       "      <td>543.0</td>\n",
       "      <td>257.0</td>\n",
       "      <td>90.0</td>\n",
       "      <td>559.0</td>\n",
       "      <td>560.0</td>\n",
       "      <td>46.0</td>\n",
       "      <td>72.0</td>\n",
       "      <td>317.0</td>\n",
       "    </tr>\n",
       "  </tbody>\n",
       "</table>\n",
       "<p>5 rows × 25 columns</p>\n",
       "</div>"
      ],
      "text/plain": [
       "            EventType                                                   \\\n",
       "EventType      assist  block foul_pers foul_tech made1_free made2_dunk   \n",
       "EventTeamID                                                              \n",
       "1101            340.0   69.0     554.0       2.0      298.0       22.0   \n",
       "1102            449.0   55.0     555.0       2.0      470.0       14.0   \n",
       "1103            479.0  103.0     602.0      17.0      463.0       44.0   \n",
       "1104            377.0  139.0     650.0       2.0      480.0       93.0   \n",
       "1105            263.0   44.0     439.0       3.0      342.0       29.0   \n",
       "\n",
       "                                                        ...                \\\n",
       "EventType   made2_jump made2_lay made2_tip made3_jump   ...    miss3_jump   \n",
       "EventTeamID                                             ...                 \n",
       "1101             165.0     239.0       8.0      177.0   ...         300.0   \n",
       "1102             210.0     277.0       4.0      246.0   ...         432.0   \n",
       "1103              95.0     386.0       9.0      333.0   ...         567.0   \n",
       "1104             178.0     273.0      22.0      218.0   ...         468.0   \n",
       "1105             147.0     227.0      11.0      111.0   ...         282.0   \n",
       "\n",
       "                                                                     \\\n",
       "EventType   reb_dead reb_def reb_off  steal  sub_in sub_out timeout   \n",
       "EventTeamID                                                           \n",
       "1101            72.0   572.0   189.0  175.0   887.0   884.0    76.0   \n",
       "1102            84.0   782.0   293.0  183.0   981.0   982.0    84.0   \n",
       "1103           113.0   810.0   322.0  179.0  1080.0  1082.0    65.0   \n",
       "1104           127.0   887.0   406.0  198.0  1131.0  1177.0    95.0   \n",
       "1105            93.0   543.0   257.0   90.0   559.0   560.0    46.0   \n",
       "\n",
       "                                 \n",
       "EventType   timeout_tv turnover  \n",
       "EventTeamID                      \n",
       "1101              77.0    362.0  \n",
       "1102             130.0    386.0  \n",
       "1103             133.0    384.0  \n",
       "1104             119.0    458.0  \n",
       "1105              72.0    317.0  \n",
       "\n",
       "[5 rows x 25 columns]"
      ]
     },
     "execution_count": 35,
     "metadata": {},
     "output_type": "execute_result"
    }
   ],
   "source": [
    "# get stats for each team in 2017 season\n",
    "events = pd.read_csv('data/PlayByPlay_{}/Events_{}.csv'.format(stats_season, stats_season))\n",
    "team_stats = events[events['DayNum'] < 134].groupby(['EventTeamID', 'EventType']).agg({'EventType': 'count'})\n",
    "team_stats = team_stats.unstack('EventType')\n",
    "team_stats.fillna(0, inplace=True)\n",
    "team_stats.head()"
   ]
  },
  {
   "cell_type": "code",
   "execution_count": 36,
   "metadata": {},
   "outputs": [
    {
     "data": {
      "text/html": [
       "<div>\n",
       "<style>\n",
       "    .dataframe thead tr:only-child th {\n",
       "        text-align: right;\n",
       "    }\n",
       "\n",
       "    .dataframe thead th {\n",
       "        text-align: left;\n",
       "    }\n",
       "\n",
       "    .dataframe tbody tr th {\n",
       "        vertical-align: top;\n",
       "    }\n",
       "</style>\n",
       "<table border=\"1\" class=\"dataframe\">\n",
       "  <thead>\n",
       "    <tr style=\"text-align: right;\">\n",
       "      <th></th>\n",
       "      <th>Season</th>\n",
       "      <th>DayNum</th>\n",
       "      <th>WTeamID</th>\n",
       "      <th>WScore</th>\n",
       "      <th>LTeamID</th>\n",
       "      <th>LScore</th>\n",
       "      <th>WLoc</th>\n",
       "      <th>NumOT</th>\n",
       "    </tr>\n",
       "  </thead>\n",
       "  <tbody>\n",
       "    <tr>\n",
       "      <th>2050</th>\n",
       "      <td>2017</td>\n",
       "      <td>134</td>\n",
       "      <td>1243</td>\n",
       "      <td>95</td>\n",
       "      <td>1448</td>\n",
       "      <td>88</td>\n",
       "      <td>N</td>\n",
       "      <td>0</td>\n",
       "    </tr>\n",
       "    <tr>\n",
       "      <th>2051</th>\n",
       "      <td>2017</td>\n",
       "      <td>134</td>\n",
       "      <td>1291</td>\n",
       "      <td>67</td>\n",
       "      <td>1309</td>\n",
       "      <td>66</td>\n",
       "      <td>N</td>\n",
       "      <td>0</td>\n",
       "    </tr>\n",
       "    <tr>\n",
       "      <th>2052</th>\n",
       "      <td>2017</td>\n",
       "      <td>135</td>\n",
       "      <td>1413</td>\n",
       "      <td>67</td>\n",
       "      <td>1300</td>\n",
       "      <td>63</td>\n",
       "      <td>N</td>\n",
       "      <td>0</td>\n",
       "    </tr>\n",
       "    <tr>\n",
       "      <th>2053</th>\n",
       "      <td>2017</td>\n",
       "      <td>135</td>\n",
       "      <td>1425</td>\n",
       "      <td>75</td>\n",
       "      <td>1344</td>\n",
       "      <td>71</td>\n",
       "      <td>N</td>\n",
       "      <td>0</td>\n",
       "    </tr>\n",
       "    <tr>\n",
       "      <th>2054</th>\n",
       "      <td>2017</td>\n",
       "      <td>136</td>\n",
       "      <td>1112</td>\n",
       "      <td>100</td>\n",
       "      <td>1315</td>\n",
       "      <td>82</td>\n",
       "      <td>N</td>\n",
       "      <td>0</td>\n",
       "    </tr>\n",
       "  </tbody>\n",
       "</table>\n",
       "</div>"
      ],
      "text/plain": [
       "      Season  DayNum  WTeamID  WScore  LTeamID  LScore WLoc  NumOT\n",
       "2050    2017     134     1243      95     1448      88    N      0\n",
       "2051    2017     134     1291      67     1309      66    N      0\n",
       "2052    2017     135     1413      67     1300      63    N      0\n",
       "2053    2017     135     1425      75     1344      71    N      0\n",
       "2054    2017     136     1112     100     1315      82    N      0"
      ]
     },
     "execution_count": 36,
     "metadata": {},
     "output_type": "execute_result"
    }
   ],
   "source": [
    "# get match results for 2017 season\n",
    "season_results = pd.read_csv('data/RegularSeasonCompactResults.csv')\n",
    "season_results = season_results[season_results.Season == predict_season]\n",
    "\n",
    "ncaa_results = pd.read_csv('data/NCAATourneyCompactResults.csv')\n",
    "ncaa_results = ncaa_results[ncaa_results.Season == predict_season]\n",
    "ncaa_results.head()"
   ]
  },
  {
   "cell_type": "markdown",
   "metadata": {},
   "source": [
    "We will call the create_dataset function with ncaa_results as matches and team_stats as stats"
   ]
  },
  {
   "cell_type": "code",
   "execution_count": 37,
   "metadata": {
    "collapsed": true
   },
   "outputs": [],
   "source": [
    "test_x, test_y = create_dataset(team_stats, ncaa_results)\n",
    "train_x, train_y = create_dataset(team_stats, season_results)"
   ]
  },
  {
   "cell_type": "code",
   "execution_count": 38,
   "metadata": {},
   "outputs": [
    {
     "data": {
      "text/plain": [
       "((67, 50), (67,), (5395, 50), (5395,))"
      ]
     },
     "execution_count": 38,
     "metadata": {},
     "output_type": "execute_result"
    }
   ],
   "source": [
    "# Let's double check whether our datasets are in appropriate forms\n",
    "shapes_of_data = (test_x.shape , test_y.shape, train_x.shape, train_y.shape )\n",
    "shapes_of_data"
   ]
  },
  {
   "cell_type": "code",
   "execution_count": 39,
   "metadata": {},
   "outputs": [
    {
     "name": "stdout",
     "output_type": "stream",
     "text": [
      "Accuracy of K-NN classifier on training set: 0.76\n",
      "Accuracy of K-NN classifier on test set: 0.64\n"
     ]
    }
   ],
   "source": [
    "# Let's see how KNN- algorithm predict the results: K = 5\n",
    "from sklearn.neighbors import KNeighborsClassifier\n",
    "from sklearn.preprocessing import MinMaxScaler\n",
    "knn = KNeighborsClassifier(n_neighbors = 5)\n",
    "knn.fit(train_x, train_y)\n",
    "print('Accuracy of K-NN classifier on training set: {:.2f}'\n",
    "     .format(knn.score(train_x, train_y)))\n",
    "print('Accuracy of K-NN classifier on test set: {:.2f}'\n",
    "     .format(knn.score(test_x, test_y)))"
   ]
  },
  {
   "cell_type": "code",
   "execution_count": 40,
   "metadata": {},
   "outputs": [
    {
     "name": "stdout",
     "output_type": "stream",
     "text": [
      "Accuracy of K-NN classifier on training set: 0.77\n",
      "Accuracy of K-NN classifier on test set: 0.64\n"
     ]
    }
   ],
   "source": [
    "# Let's see how KNN - algorithm with normalization predict the results: K = 5\n",
    "from sklearn.neighbors import KNeighborsClassifier\n",
    "from sklearn.preprocessing import MinMaxScaler\n",
    "scaler = MinMaxScaler()\n",
    "X_train_scaled = scaler.fit_transform(train_x)\n",
    "X_test_scaled = scaler.transform(test_x)\n",
    "knn = KNeighborsClassifier(n_neighbors = 5)\n",
    "knn.fit(X_train_scaled, train_y)\n",
    "print('Accuracy of K-NN classifier on training set: {:.2f}'\n",
    "     .format(knn.score(X_train_scaled, train_y)))\n",
    "print('Accuracy of K-NN classifier on test set: {:.2f}'\n",
    "     .format(knn.score(X_test_scaled, test_y)))"
   ]
  },
  {
   "cell_type": "code",
   "execution_count": 41,
   "metadata": {},
   "outputs": [
    {
     "name": "stdout",
     "output_type": "stream",
     "text": [
      "Confusion matrix, without normalization\n",
      "[[23 14]\n",
      " [10 20]]\n",
      "Normalized confusion matrix\n",
      "[[ 0.62  0.38]\n",
      " [ 0.33  0.67]]\n"
     ]
    },
    {
     "data": {
      "image/png": "[encoded data removed]",
      "text/plain": [
       "<matplotlib.figure.Figure at 0x114653518>"
      ]
     },
     "metadata": {},
     "output_type": "display_data"
    },
    {
     "data": {
      "image/png": "[encoded data removed]",
      "text/plain": [
       "<matplotlib.figure.Figure at 0x114653c50>"
      ]
     },
     "metadata": {},
     "output_type": "display_data"
    }
   ],
   "source": [
    "import itertools\n",
    "import numpy as np\n",
    "import matplotlib.pyplot as plt\n",
    "from sklearn.neighbors import KNeighborsClassifier\n",
    "from sklearn.preprocessing import MinMaxScaler\n",
    "from sklearn.metrics import confusion_matrix\n",
    "X_train_scaled = scaler.fit_transform(train_x)\n",
    "X_test_scaled = scaler.transform(test_x)\n",
    "knn = KNeighborsClassifier(n_neighbors = 5)\n",
    "knn.fit(X_train_scaled, train_y)\n",
    "y_pred = knn.fit(X_train_scaled, train_y).predict(X_test_scaled)\n",
    "class_names = [0,1]\n",
    "def plot_confusion_matrix(cm, classes,\n",
    "                          normalize=False,\n",
    "                          title='Confusion matrix',\n",
    "                          cmap=plt.cm.Blues):\n",
    "    \"\"\"\n",
    "    This function prints and plots the confusion matrix.\n",
    "    Normalization can be applied by setting `normalize=True`.\n",
    "    \"\"\"\n",
    "    if normalize:\n",
    "        cm = cm.astype('float') / cm.sum(axis=1)[:, np.newaxis]\n",
    "        print(\"Normalized confusion matrix\")\n",
    "    else:\n",
    "        print('Confusion matrix, without normalization')\n",
    "\n",
    "    print(cm)\n",
    "\n",
    "    plt.imshow(cm, interpolation='nearest', cmap=cmap)\n",
    "    plt.title(title)\n",
    "    plt.colorbar()\n",
    "    tick_marks = np.arange(len(classes))\n",
    "    plt.xticks(tick_marks, classes, rotation=45)\n",
    "    plt.yticks(tick_marks, classes)\n",
    "\n",
    "    fmt = '.2f' if normalize else 'd'\n",
    "    thresh = cm.max() / 2.\n",
    "    for i, j in itertools.product(range(cm.shape[0]), range(cm.shape[1])):\n",
    "        plt.text(j, i, format(cm[i, j], fmt),\n",
    "                 horizontalalignment=\"center\",\n",
    "                 color=\"white\" if cm[i, j] > thresh else \"black\")\n",
    "\n",
    "    plt.tight_layout()\n",
    "    plt.ylabel('True label')\n",
    "    plt.xlabel('Predicted label')\n",
    "\n",
    "# Compute confusion matrix\n",
    "cnf_matrix = confusion_matrix(test_y, y_pred)\n",
    "np.set_printoptions(precision=2)\n",
    "\n",
    "# Plot non-normalized confusion matrix\n",
    "plt.figure()\n",
    "plot_confusion_matrix(cnf_matrix, classes=class_names,\n",
    "                      title='Confusion matrix, without normalization')\n",
    "\n",
    "# Plot normalized confusion matrix\n",
    "plt.figure()\n",
    "plot_confusion_matrix(cnf_matrix, classes=class_names, normalize=True,\n",
    "                      title='Normalized confusion matrix')\n",
    "\n",
    "plt.show()"
   ]
  },
  {
   "cell_type": "code",
   "execution_count": 42,
   "metadata": {},
   "outputs": [
    {
     "name": "stdout",
     "output_type": "stream",
     "text": [
      "Accuracy of K-NN classifier on training set: 0.76\n",
      "Accuracy of K-NN classifier on test set: 0.55\n"
     ]
    }
   ],
   "source": [
    "# Let's see how KNN- algorithm predict the results: K = 4\n",
    "from sklearn.neighbors import KNeighborsClassifier\n",
    "from sklearn.preprocessing import MinMaxScaler\n",
    "scaler = MinMaxScaler()\n",
    "X_train_scaled = scaler.fit_transform(train_x)\n",
    "X_test_scaled = scaler.transform(test_x)\n",
    "knn = KNeighborsClassifier(n_neighbors = 4)\n",
    "knn.fit(X_train_scaled, train_y)\n",
    "print('Accuracy of K-NN classifier on training set: {:.2f}'\n",
    "     .format(knn.score(X_train_scaled, train_y)))\n",
    "print('Accuracy of K-NN classifier on test set: {:.2f}'\n",
    "     .format(knn.score(X_test_scaled, test_y)))"
   ]
  },
  {
   "cell_type": "code",
   "execution_count": 43,
   "metadata": {},
   "outputs": [
    {
     "name": "stdout",
     "output_type": "stream",
     "text": [
      "Accuracy of K-NN classifier on training set: 0.81\n",
      "Accuracy of K-NN classifier on test set: 0.63\n"
     ]
    }
   ],
   "source": [
    "from sklearn.neighbors import KNeighborsClassifier\n",
    "from sklearn import preprocessing\n",
    "X_train_normalized = preprocessing.normalize(train_x, norm='l2')\n",
    "X_test_normalized = preprocessing.normalize(test_x, norm='l2')\n",
    "knn = KNeighborsClassifier(n_neighbors = 3)\n",
    "knn.fit(X_train_normalized, train_y)\n",
    "print('Accuracy of K-NN classifier on training set: {:.2f}'\n",
    "     .format(knn.score(X_train_normalized, train_y)))\n",
    "print('Accuracy of K-NN classifier on test set: {:.2f}'\n",
    "     .format(knn.score(X_test_normalized, test_y)))"
   ]
  },
  {
   "cell_type": "code",
   "execution_count": 44,
   "metadata": {},
   "outputs": [
    {
     "name": "stdout",
     "output_type": "stream",
     "text": [
      "Accuracy of K-NN classifier on training set: 0.80\n",
      "Accuracy of K-NN classifier on test set: 0.61\n"
     ]
    }
   ],
   "source": [
    "# Let's see how KNN- algorithm predict the results: K = 2\n",
    "from sklearn.neighbors import KNeighborsClassifier\n",
    "from sklearn.preprocessing import MinMaxScaler\n",
    "scaler = MinMaxScaler()\n",
    "X_train_scaled = scaler.fit_transform(train_x)\n",
    "X_test_scaled = scaler.transform(test_x)\n",
    "knn = KNeighborsClassifier(n_neighbors = 2)\n",
    "knn.fit(X_train_scaled, train_y)\n",
    "print('Accuracy of K-NN classifier on training set: {:.2f}'\n",
    "     .format(knn.score(X_train_scaled, train_y)))\n",
    "print('Accuracy of K-NN classifier on test set: {:.2f}'\n",
    "     .format(knn.score(X_test_scaled, test_y)))"
   ]
  },
  {
   "cell_type": "code",
   "execution_count": 45,
   "metadata": {},
   "outputs": [
    {
     "name": "stdout",
     "output_type": "stream",
     "text": [
      "Test accuracy: 0.6417910447761194\n",
      "Training accuracy: 0.7316033364226135\n"
     ]
    }
   ],
   "source": [
    "# Now we will use logistic regression to predict game\n",
    "#results for 2010 NCAA results from regular season data 2010\n",
    "from sklearn.linear_model import LogisticRegression\n",
    "clf = LogisticRegression()\n",
    "clf.fit(train_x, train_y)\n",
    "test_acc = clf.score(test_x, test_y)\n",
    "training_acc = clf.score(train_x , train_y)\n",
    "print(\"Test accuracy: {}\".format(test_acc))\n",
    "print(\"Training accuracy: {}\".format(training_acc))"
   ]
  },
  {
   "cell_type": "code",
   "execution_count": 46,
   "metadata": {},
   "outputs": [
    {
     "name": "stdout",
     "output_type": "stream",
     "text": [
      "Test accuracy : 0.6268656716417911\n",
      "Training accuracy : 0.7310472659870251\n"
     ]
    }
   ],
   "source": [
    "from sklearn.linear_model import LogisticRegression\n",
    "clf = LogisticRegression(penalty= 'l1', C = .01, max_iter= 4000, solver = 'saga')\n",
    "clf.fit(train_x, train_y)\n",
    "test_acc = clf.score(test_x, test_y)\n",
    "training_acc = clf.score(train_x , train_y)\n",
    "print(\"Test accuracy : {}\".format(test_acc))\n",
    "print(\"Training accuracy : {}\".format(training_acc))"
   ]
  },
  {
   "cell_type": "code",
   "execution_count": 47,
   "metadata": {},
   "outputs": [
    {
     "name": "stdout",
     "output_type": "stream",
     "text": [
      "Test accuracy : 0.6417910447761194\n",
      "Training accuracy : 0.7312326227988879\n"
     ]
    }
   ],
   "source": [
    "from sklearn.linear_model import LogisticRegression\n",
    "clf = LogisticRegression(penalty= 'l2', C = 1, max_iter= 4000, solver = 'sag')\n",
    "clf.fit(train_x, train_y)\n",
    "test_acc = clf.score(test_x, test_y)\n",
    "training_acc = clf.score(train_x , train_y)\n",
    "print(\"Test accuracy : {}\".format(test_acc))\n",
    "print(\"Training accuracy : {}\".format(training_acc))"
   ]
  },
  {
   "cell_type": "code",
   "execution_count": 48,
   "metadata": {},
   "outputs": [
    {
     "name": "stderr",
     "output_type": "stream",
     "text": [
      "/Users/user/anaconda3/lib/python3.6/site-packages/sklearn/linear_model/sag.py:326: ConvergenceWarning: The max_iter was reached which means the coef_ did not converge\n",
      "  \"the coef_ did not converge\", ConvergenceWarning)\n"
     ]
    },
    {
     "name": "stdout",
     "output_type": "stream",
     "text": [
      "Test accuracy C =  1.00: 0.6417910447761194\n",
      "Training accuracy C =  1.00: 0.7306765523632993\n",
      "Test accuracy C =  25.75: 0.6417910447761194\n",
      "Training accuracy C =  25.75: 0.7306765523632993\n",
      "Test accuracy C =  50.50: 0.6417910447761194\n",
      "Training accuracy C =  50.50: 0.7306765523632993\n",
      "Test accuracy C =  75.25: 0.6417910447761194\n",
      "Training accuracy C =  75.25: 0.7306765523632993\n",
      "Test accuracy C =  100.00: 0.6417910447761194\n",
      "Training accuracy C =  100.00: 0.7306765523632993\n"
     ]
    }
   ],
   "source": [
    "# Now we will use logistic regression with l1 penalty and various C values \n",
    "# to predict game results for 2010 NCAA results\n",
    "from sklearn.linear_model import LogisticRegression\n",
    "for param in list(np.linspace(1,100,5)):\n",
    "    clf = LogisticRegression(penalty= 'l1', C = param, max_iter= 700, solver = 'saga')\n",
    "    clf.fit(train_x, train_y)\n",
    "    test_acc = clf.score(test_x, test_y)\n",
    "    training_acc = clf.score(train_x , train_y)\n",
    "    print(\"Test accuracy C = {: .2f}: {}\".format(param,test_acc))\n",
    "    print(\"Training accuracy C = {: .2f}: {}\".format(param, training_acc))\n",
    "# The same result without penalty"
   ]
  },
  {
   "cell_type": "code",
   "execution_count": 49,
   "metadata": {},
   "outputs": [
    {
     "name": "stdout",
     "output_type": "stream",
     "text": [
      "Test accuracy for C = 1.0: 0.6417910447761194\n",
      "Training accuracy for C = 1.0 : 0.7330861909175163\n",
      "Test accuracy for C = 12.0: 0.6417910447761194\n",
      "Training accuracy for C = 12.0 : 0.7330861909175163\n",
      "Test accuracy for C = 23.0: 0.6417910447761194\n",
      "Training accuracy for C = 23.0 : 0.7330861909175163\n",
      "Test accuracy for C = 34.0: 0.6417910447761194\n",
      "Training accuracy for C = 34.0 : 0.7330861909175163\n",
      "Test accuracy for C = 45.0: 0.6417910447761194\n",
      "Training accuracy for C = 45.0 : 0.7330861909175163\n",
      "Test accuracy for C = 56.0: 0.6417910447761194\n",
      "Training accuracy for C = 56.0 : 0.7330861909175163\n",
      "Test accuracy for C = 67.0: 0.6417910447761194\n",
      "Training accuracy for C = 67.0 : 0.7330861909175163\n",
      "Test accuracy for C = 78.0: 0.6417910447761194\n",
      "Training accuracy for C = 78.0 : 0.7330861909175163\n",
      "Test accuracy for C = 89.0: 0.6417910447761194\n",
      "Training accuracy for C = 89.0 : 0.7330861909175163\n",
      "Test accuracy for C = 100.0: 0.6417910447761194\n",
      "Training accuracy for C = 100.0 : 0.7330861909175163\n"
     ]
    }
   ],
   "source": [
    "# Now we will use logistic regression with l2 penalty with various C\n",
    "# to predict game results for 2010 NCAA results\n",
    "from sklearn.linear_model import LogisticRegression\n",
    "for param in np.linspace(1,100,10):\n",
    "    clf = LogisticRegression(penalty= 'l2', C = param, max_iter= 1000, solver= 'newton-cg')\n",
    "    clf.fit(train_x, train_y)\n",
    "    test_acc = clf.score(test_x, test_y)\n",
    "    training_acc = clf.score(train_x , train_y)\n",
    "    print(\"Test accuracy for C = {}: {}\".format(param, test_acc))\n",
    "    print(\"Training accuracy for C = {} : {}\".format(param, training_acc))\n",
    "# The same result without penalty"
   ]
  },
  {
   "cell_type": "code",
   "execution_count": 50,
   "metadata": {},
   "outputs": [
    {
     "name": "stdout",
     "output_type": "stream",
     "text": [
      "Test accuracy C = 1.00 : 0.6417910447761194\n",
      "Training accuracy C = 1.00 : 0.7317886932344764\n",
      "Test accuracy C = 12.00 : 0.6417910447761194\n",
      "Training accuracy C = 12.00 : 0.7336422613531047\n",
      "Test accuracy C = 23.00 : 0.6417910447761194\n",
      "Training accuracy C = 23.00 : 0.7332715477293791\n",
      "Test accuracy C = 34.00 : 0.6417910447761194\n",
      "Training accuracy C = 34.00 : 0.7336422613531047\n",
      "Test accuracy C = 45.00 : 0.6417910447761194\n",
      "Training accuracy C = 45.00 : 0.7338276181649676\n",
      "Test accuracy C = 56.00 : 0.6417910447761194\n",
      "Training accuracy C = 56.00 : 0.7338276181649676\n",
      "Test accuracy C = 67.00 : 0.6417910447761194\n",
      "Training accuracy C = 67.00 : 0.7338276181649676\n",
      "Test accuracy C = 78.00 : 0.6417910447761194\n",
      "Training accuracy C = 78.00 : 0.7338276181649676\n",
      "Test accuracy C = 89.00 : 0.6417910447761194\n",
      "Training accuracy C = 89.00 : 0.7338276181649676\n",
      "Test accuracy C = 100.00 : 0.6417910447761194\n",
      "Training accuracy C = 100.00 : 0.7336422613531047\n"
     ]
    }
   ],
   "source": [
    "# Normalized Logistic Reg. with L2 penalty with various C\n",
    "from sklearn.preprocessing import MinMaxScaler\n",
    "from sklearn.linear_model import LogisticRegression\n",
    "import numpy as np\n",
    "scaler = MinMaxScaler()\n",
    "X_train_scaled = scaler.fit_transform(train_x)\n",
    "X_test_scaled = scaler.transform(test_x)\n",
    "for param in list(np.linspace(1,100,10)):\n",
    "    clf = LogisticRegression(penalty= 'l2', C = param, solver= 'lbfgs' )\n",
    "    clf.fit(X_train_scaled, train_y)\n",
    "    test_acc = clf.score(X_test_scaled, test_y)\n",
    "    training_acc = clf.score(X_train_scaled , train_y)\n",
    "    print(\"Test accuracy C = {:.2f} : {}\".format(param, test_acc))\n",
    "    print(\"Training accuracy C = {:.2f} : {}\".format(param, training_acc))"
   ]
  },
  {
   "cell_type": "code",
   "execution_count": 51,
   "metadata": {},
   "outputs": [
    {
     "name": "stdout",
     "output_type": "stream",
     "text": [
      "Test accuracy C = 1.00 : 0.6417910447761194\n",
      "Training accuracy C = 1.00 : 0.7317886932344764\n",
      "Test accuracy C = 12.00 : 0.6417910447761194\n",
      "Training accuracy C = 12.00 : 0.7336422613531047\n",
      "Test accuracy C = 23.00 : 0.6417910447761194\n",
      "Training accuracy C = 23.00 : 0.7332715477293791\n",
      "Test accuracy C = 34.00 : 0.6417910447761194\n",
      "Training accuracy C = 34.00 : 0.7338276181649676\n",
      "Test accuracy C = 45.00 : 0.6417910447761194\n",
      "Training accuracy C = 45.00 : 0.7338276181649676\n",
      "Test accuracy C = 56.00 : 0.6417910447761194\n",
      "Training accuracy C = 56.00 : 0.7340129749768304\n",
      "Test accuracy C = 67.00 : 0.6417910447761194\n",
      "Training accuracy C = 67.00 : 0.7336422613531047\n",
      "Test accuracy C = 78.00 : 0.6417910447761194\n",
      "Training accuracy C = 78.00 : 0.7334569045412419\n",
      "Test accuracy C = 89.00 : 0.6417910447761194\n",
      "Training accuracy C = 89.00 : 0.7332715477293791\n",
      "Test accuracy C = 100.00 : 0.6417910447761194\n",
      "Training accuracy C = 100.00 : 0.7332715477293791\n"
     ]
    }
   ],
   "source": [
    "# Normalized Logistic Reg. with L2 penalty with various C\n",
    "from sklearn.preprocessing import MinMaxScaler\n",
    "from sklearn.linear_model import LogisticRegression\n",
    "import numpy as np\n",
    "scaler = MinMaxScaler()\n",
    "X_train_scaled = scaler.fit_transform(train_x)\n",
    "X_test_scaled = scaler.transform(test_x)\n",
    "for param in list(np.linspace(1,100,10)):\n",
    "    clf = LogisticRegression(penalty= 'l2', C = param, solver = 'lbfgs', max_iter=1000 )\n",
    "    clf.fit(X_train_scaled, train_y)\n",
    "    test_acc = clf.score(X_test_scaled, test_y)\n",
    "    training_acc = clf.score(X_train_scaled , train_y)\n",
    "    print(\"Test accuracy C = {:.2f} : {}\".format(param, test_acc))\n",
    "    print(\"Training accuracy C = {:.2f} : {}\".format(param, training_acc))\n"
   ]
  },
  {
   "cell_type": "code",
   "execution_count": 52,
   "metadata": {},
   "outputs": [
    {
     "name": "stdout",
     "output_type": "stream",
     "text": [
      "Test accuracy C = 1.00 : 0.6268656716417911\n",
      "Training accuracy C = 1.00 : 0.7314179796107507\n",
      "Test accuracy C = 12.00 : 0.6417910447761194\n",
      "Training accuracy C = 12.00 : 0.7329008341056534\n",
      "Test accuracy C = 23.00 : 0.6417910447761194\n",
      "Training accuracy C = 23.00 : 0.7334569045412419\n",
      "Test accuracy C = 34.00 : 0.6417910447761194\n",
      "Training accuracy C = 34.00 : 0.7334569045412419\n",
      "Test accuracy C = 45.00 : 0.6417910447761194\n",
      "Training accuracy C = 45.00 : 0.7338276181649676\n",
      "Test accuracy C = 56.00 : 0.6417910447761194\n",
      "Training accuracy C = 56.00 : 0.7338276181649676\n",
      "Test accuracy C = 67.00 : 0.6417910447761194\n",
      "Training accuracy C = 67.00 : 0.7338276181649676\n",
      "Test accuracy C = 78.00 : 0.6417910447761194\n",
      "Training accuracy C = 78.00 : 0.7338276181649676\n",
      "Test accuracy C = 89.00 : 0.6417910447761194\n",
      "Training accuracy C = 89.00 : 0.7338276181649676\n",
      "Test accuracy C = 100.00 : 0.6417910447761194\n",
      "Training accuracy C = 100.00 : 0.7338276181649676\n"
     ]
    }
   ],
   "source": [
    "# Normalized Logistic Reg. with L1 penalty with various C\n",
    "from sklearn.preprocessing import MinMaxScaler\n",
    "from sklearn.linear_model import LogisticRegression\n",
    "scaler = MinMaxScaler()\n",
    "X_train_scaled = scaler.fit_transform(train_x)\n",
    "X_test_scaled = scaler.transform(test_x)\n",
    "for param in list(np.linspace(1,100,10)):\n",
    "    clf = LogisticRegression(penalty= 'l1', C = param)\n",
    "    clf.fit(X_train_scaled, train_y)\n",
    "    test_acc = clf.score(X_test_scaled, test_y)\n",
    "    training_acc = clf.score(X_train_scaled , train_y)\n",
    "    print(\"Test accuracy C = {:.2f} : {}\".format(param, test_acc))\n",
    "    print(\"Training accuracy C = {:.2f} : {}\".format(param, training_acc))\n"
   ]
  },
  {
   "cell_type": "code",
   "execution_count": null,
   "metadata": {
    "collapsed": true
   },
   "outputs": [],
   "source": []
  },
  {
   "cell_type": "code",
   "execution_count": null,
   "metadata": {
    "collapsed": true
   },
   "outputs": [],
   "source": []
  }
 ],
 "metadata": {
  "kernelspec": {
   "display_name": "Python 3",
   "language": "python",
   "name": "python3"
  },
  "language_info": {
   "codemirror_mode": {
    "name": "ipython",
    "version": 3
   },
   "file_extension": ".py",
   "mimetype": "text/x-python",
   "name": "python",
   "nbconvert_exporter": "python",
   "pygments_lexer": "ipython3",
   "version": "3.6.2"
  }
 },
 "nbformat": 4,
 "nbformat_minor": 2
}
