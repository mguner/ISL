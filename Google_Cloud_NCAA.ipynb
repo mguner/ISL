{
 "cells": [
  {
   "cell_type": "code",
   "execution_count": 1,
   "metadata": {
    "collapsed": true
   },
   "outputs": [],
   "source": [
    "%matplotlib inline\n",
    "import pandas as pd\n",
    "import matplotlib\n",
    "import matplotlib.pyplot as plt\n",
    "import numpy as np\n",
    "import seaborn as sbn"
   ]
  },
  {
   "cell_type": "code",
   "execution_count": 2,
   "metadata": {},
   "outputs": [
    {
     "ename": "SyntaxError",
     "evalue": "unexpected EOF while parsing (<ipython-input-2-6c698c627e0d>, line 6)",
     "output_type": "error",
     "traceback": [
      "\u001b[0;36m  File \u001b[0;32m\"<ipython-input-2-6c698c627e0d>\"\u001b[0;36m, line \u001b[0;32m6\u001b[0m\n\u001b[0;31m    p1 = pd.read_csv('/Users/user/Desktop/proje/EGMStudyGroup/NCAA/data/PlayByPlay_{}/Players_{}.csv'.format(year,year)\u001b[0m\n\u001b[0m                                                                                                                       ^\u001b[0m\n\u001b[0;31mSyntaxError\u001b[0m\u001b[0;31m:\u001b[0m unexpected EOF while parsing\n"
     ]
    }
   ],
   "source": [
    "def event_data(year):\n",
    "    return(pd.read_csv('/Users/user/Desktop/proje/EGMStudyGroup/NCAA/data/Events_{}.csv'.format(year)))\n",
    "# def player_data(year):\n",
    "#     return(pd.read_csv('/Users/user/Desktop/proje/EGMStudyGroup/NCAA/data/PlayByPlay_{}/Players_{}.csv'.format(year)))\n",
    "year = 2011\n",
    "p1 = pd.read_csv('/Users/user/Desktop/proje/EGMStudyGroup/NCAA/data/PlayByPlay_{}/Players_{}.csv'.format(year,year)"
   ]
  },
  {
   "cell_type": "markdown",
   "metadata": {},
   "source": [
    " __[For detailed explanations of the datasets: Link to Kaggle](https://www.kaggle.com/c/mens-machine-learning-competition-2018/data)__"
   ]
  },
  {
   "cell_type": "code",
   "execution_count": null,
   "metadata": {
    "collapsed": true
   },
   "outputs": [],
   "source": [
    "#This file identifies the different college teams present in the dataset.\n",
    "teams = pd.read_csv('/Users/user/Desktop/proje/EGMStudyGroup/NCAA/data/DataFiles/Teams.csv')"
   ]
  },
  {
   "cell_type": "code",
   "execution_count": null,
   "metadata": {
    "collapsed": true
   },
   "outputs": [],
   "source": [
    "#This file identifies the different seasons included in the historical data,\n",
    "#along with certain season-level properties.\n",
    "seasons = pd.read_csv('/Users/user/Desktop/proje/EGMStudyGroup/NCAA/data/DataFiles/Seasons.csv')"
   ]
  },
  {
   "cell_type": "code",
   "execution_count": null,
   "metadata": {
    "collapsed": true
   },
   "outputs": [],
   "source": [
    "# This file identifies the seeds for all teams in each NCAA® tournament, for all seasons of historical data.\n",
    "seeds = pd.read_csv('/Users/user/Desktop/proje/EGMStudyGroup/NCAA/data/DataFiles/NCAATourneySeeds.csv')\n"
   ]
  },
  {
   "cell_type": "code",
   "execution_count": null,
   "metadata": {
    "collapsed": true
   },
   "outputs": [],
   "source": [
    "#This file identifies the game-by-game results for many seasons of historical data, starting with the 1985 season\n",
    "reg_season_cpt = pd.read_csv('/Users/user/Desktop/proje/EGMStudyGroup/NCAA/data/DataFiles/RegularSeasonCompactResults.csv')"
   ]
  },
  {
   "cell_type": "code",
   "execution_count": null,
   "metadata": {
    "collapsed": true
   },
   "outputs": [],
   "source": [
    "#This file identifies the game-by-game NCAA® tournament results for all seasons of historical data.\n",
    "tour_results = pd.read_csv('/Users/user/Desktop/proje/EGMStudyGroup/NCAA/data/DataFiles/NCAATourneyCompactResults.csv')\n"
   ]
  },
  {
   "cell_type": "code",
   "execution_count": null,
   "metadata": {
    "collapsed": true
   },
   "outputs": [],
   "source": [
    "#This file provides team-level box scores for many regular seasons of historical data, starting with the 2003 season. \n",
    "seas_detail = pd.read_csv('/Users/user/Desktop/proje/EGMStudyGroup/NCAA/data/DataFiles/RegularSeasonDetailedResults.csv')\n"
   ]
  },
  {
   "cell_type": "code",
   "execution_count": null,
   "metadata": {
    "collapsed": true
   },
   "outputs": [],
   "source": [
    "#This file provides team-level box scores for many NCAA® tournaments, starting with the 2003 season.\n",
    "tour_detail = pd.read_csv('/Users/user/Desktop/proje/EGMStudyGroup/NCAA/data/DataFiles/NCAATourneyDetailedResults.csv')\n"
   ]
  },
  {
   "cell_type": "code",
   "execution_count": null,
   "metadata": {
    "collapsed": true
   },
   "outputs": [],
   "source": [
    "#This file indicates the Division I conferences that have existed over the years since 1985.\n",
    "conferences = pd.read_csv('/Users/user/Desktop/proje/EGMStudyGroup/NCAA/data/DataFiles/Conferences.csv')\n"
   ]
  },
  {
   "cell_type": "code",
   "execution_count": null,
   "metadata": {
    "collapsed": true
   },
   "outputs": [],
   "source": [
    "#This file indicates the conference affiliations for each team during each season. \n",
    "#Some conferences have changed their names from year to year, and/or changed which teams are part of the conference.\n",
    "#This file tracks this information historically.\n",
    "\n",
    "team_conferences = pd.read_csv('/Users/user/Desktop/proje/EGMStudyGroup/NCAA/data/DataFiles/TeamConferences.csv')\n"
   ]
  },
  {
   "cell_type": "code",
   "execution_count": null,
   "metadata": {
    "collapsed": true
   },
   "outputs": [],
   "source": [
    "#This file indicates the head coach for each team in each season, \n",
    "#including a start/finish range of DayNums to indicate a mid-season coaching change. \n",
    "coaches = pd.read_csv('/Users/user/Desktop/proje/EGMStudyGroup/NCAA/data/DataFiles/TeamCoaches.csv')"
   ]
  },
  {
   "cell_type": "markdown",
   "metadata": {},
   "source": [
    "# Most Succesfull Teams? By Number of Champs"
   ]
  },
  {
   "cell_type": "code",
   "execution_count": null,
   "metadata": {
    "collapsed": true
   },
   "outputs": [],
   "source": [
    "champ_count = tour_results[tour_results['DayNum'] == 154].WTeamID.value_counts()\n",
    "\n",
    "champ_teams = teams[teams.TeamID.isin(list(champ_count.index))][['TeamID','TeamName']]\n",
    "champ_teams['no_champs'] = champ_teams.TeamID.map(champ_count)\n",
    "Champ_Teams = champ_teams.sort_values(by = 'no_champs', ascending = False)\n"
   ]
  },
  {
   "cell_type": "markdown",
   "metadata": {},
   "source": [
    "# Most Succesfull Team? By Average seed:"
   ]
  },
  {
   "cell_type": "code",
   "execution_count": null,
   "metadata": {
    "collapsed": true
   },
   "outputs": [],
   "source": [
    "def TeamID_to_Tname(series_TeamID):\n",
    "    series_teamname = teams.set_index('TeamName').TeamID.map(series_TeamID).sort_values(ascending = False)\n",
    "    return series_teamname\n",
    "def PlayerID_to_TeamID(list_PlayerID, season):\n",
    "    team_player = pd.read_csv('/Users/user/Desktop/proje/EGMStudyGroup/NCAA/data/PlayByPlay_{}/Players_{}.csv'.format(season,season))\n",
    "    teamID = team_player[team_player.isin(list_PlayerID)]\n",
    "    return teamID"
   ]
  },
  {
   "cell_type": "code",
   "execution_count": null,
   "metadata": {
    "collapsed": true
   },
   "outputs": [],
   "source": [
    "seeds['Seed'].replace(regex=True,inplace=True,to_replace=r'\\D',value=r'')\n",
    "seeds['Seed_Numeric'] = pd.to_numeric(seeds.Seed)\n",
    "Seed_Means = seeds.groupby('TeamID').Seed_Numeric.mean();"
   ]
  },
  {
   "cell_type": "code",
   "execution_count": null,
   "metadata": {
    "collapsed": true
   },
   "outputs": [],
   "source": [
    "Seeds_Teams = teams[teams.TeamID.isin(list(Seed_Means.index))][['TeamID','TeamName']]\n",
    "# Seeds_Teams['avg_seeds'] = Seeds_Teams.TeamID.map(Seed_Means)\n",
    "# Seed_Teams_15 = Seeds_Teams.sort_values(by = 'avg_seeds', ascending = True)[0:16]\n",
    "# Seed_Teams_15[['TeamName', 'avg_seeds']].plot.bar(x = 'TeamName')\n",
    "\n"
   ]
  },
  {
   "cell_type": "code",
   "execution_count": null,
   "metadata": {
    "collapsed": true
   },
   "outputs": [],
   "source": [
    "Seed_Best = seeds[seeds['Seed_Numeric']==1].TeamID.value_counts()\n",
    "Seeds_Best_Teams = teams[teams.TeamID.isin(list(Seed_Best.index))][['TeamID','TeamName']]\n",
    "Seeds_Best_Teams['No_first_seed'] = Seeds_Best_Teams.TeamID.map(Seed_Best)\n",
    "Seeds_Best_Teams = Seeds_Best_Teams.sort_values( by = 'No_first_seed', ascending = False)[0:14]\n",
    "\n"
   ]
  },
  {
   "cell_type": "code",
   "execution_count": null,
   "metadata": {
    "collapsed": true
   },
   "outputs": [],
   "source": [
    "def create_game_stats(events):\n",
    "    # Day number, winning team id and losing team id uniquely determines the game id\n",
    "    col = events['DayNum'].astype(str) + \"_\" + events['WTeamID'].astype(str) + \"_\" + events['LTeamID'].astype(str)\n",
    "    events['GameID'] = col\n",
    "    # new column indicating the winning team\n",
    "    events.EventTeamID = (events.WTeamID == events.EventTeamID)\n",
    "    events.EventTeamID = events.EventTeamID.astype(int)\n",
    "\n",
    "    g = events.groupby(['GameID', 'EventTeamID', 'EventType']).agg({'EventType': 'count'})\n",
    "    us = g.unstack(['EventTeamID', 'EventType'], fill_value=0)\n",
    "\n",
    "    return us.sort_index(axis=1)"
   ]
  },
  {
   "cell_type": "code",
   "execution_count": null,
   "metadata": {
    "collapsed": true
   },
   "outputs": [],
   "source": [
    "season_wins = reg_season_cpt['WTeamID']\n",
    "s1 = season_wins.value_counts()"
   ]
  },
  {
   "cell_type": "code",
   "execution_count": null,
   "metadata": {},
   "outputs": [],
   "source": [
    "import matplotlib.pyplot as plt\n",
    "import matplotlib.gridspec as gridspec\n",
    "\n",
    "f = fig, ((ax1, ax2), (ax3, ax4)) = plt.subplots(2, 2, figsize = (15,15))\n",
    "f11 = TeamID_to_Tname(s1)[0:17].plot.barh(ax = ax1)\n",
    "f11.set_title('Wins Between 1983 -2017')\n",
    "f12 = Seeds_Best_Teams[['TeamName', 'No_first_seed']].plot.barh(ax = ax2, x = 'TeamName')\n",
    "f12.set_title('Best Seeds 1983 - 2017')\n",
    "f21 = TeamID_to_Tname(Seed_Means).sort_values(ascending = True)[0:16].plot.bar(ax = ax3, x = 'TeamName')\n",
    "f21.set_title('Avg Seed')\n",
    "f22 = Champ_Teams[['no_champs','TeamName']].plot.bar(ax = ax4, x = 'TeamName')\n",
    "f22.set_title('Number of Champs 1983 - 2017')"
   ]
  },
  {
   "cell_type": "markdown",
   "metadata": {},
   "source": [
    "# Here we want to predict game result"
   ]
  },
  {
   "cell_type": "code",
   "execution_count": null,
   "metadata": {
    "collapsed": true
   },
   "outputs": [],
   "source": []
  }
 ],
 "metadata": {
  "kernelspec": {
   "display_name": "Python 3",
   "language": "python",
   "name": "python3"
  },
  "language_info": {
   "codemirror_mode": {
    "name": "ipython",
    "version": 3
   },
   "file_extension": ".py",
   "mimetype": "text/x-python",
   "name": "python",
   "nbconvert_exporter": "python",
   "pygments_lexer": "ipython3",
   "version": "3.6.2"
  }
 },
 "nbformat": 4,
 "nbformat_minor": 2
}
